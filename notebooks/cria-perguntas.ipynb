{
 "cells": [
  {
   "cell_type": "code",
   "execution_count": 1,
   "id": "3a8ac384-e4a0-4b53-934d-d4d4d61bf96f",
   "metadata": {},
   "outputs": [
    {
     "name": "stdin",
     "output_type": "stream",
     "text": [
      " ········\n"
     ]
    }
   ],
   "source": [
    "from getpass import getpass\n",
    "API_KEY = getpass()"
   ]
  },
  {
   "cell_type": "code",
   "execution_count": 2,
   "id": "81512524-d283-4972-a993-193606ed808d",
   "metadata": {},
   "outputs": [],
   "source": [
    "from groq import Groq\n",
    "import json\n",
    "from glob import glob\n",
    "import ast"
   ]
  },
  {
   "cell_type": "code",
   "execution_count": 3,
   "id": "8a70b6bb-ad50-4cc6-8118-aefacc8ecab3",
   "metadata": {},
   "outputs": [],
   "source": [
    "client = Groq(\n",
    "    api_key=API_KEY,\n",
    ")"
   ]
  },
  {
   "cell_type": "code",
   "execution_count": 4,
   "id": "7ab8cf4a-61c7-43bb-af55-e5fc060eea65",
   "metadata": {},
   "outputs": [],
   "source": [
    "from tqdm.notebook import tqdm\n",
    "from collections import defaultdict\n",
    "import re\n",
    "import time"
   ]
  },
  {
   "cell_type": "code",
   "execution_count": 5,
   "id": "5ac6139d-53ce-496e-8943-765dc00ea3d6",
   "metadata": {
    "scrolled": true
   },
   "outputs": [
    {
     "data": {
      "application/vnd.jupyter.widget-view+json": {
       "model_id": "04abaaa6fa9b49898e51d84d540862d0",
       "version_major": 2,
       "version_minor": 0
      },
      "text/plain": [
       "transcriptions/ano-novo-headless.json:   0%|          | 0/11 [00:00<?, ?it/s]"
      ]
     },
     "metadata": {},
     "output_type": "display_data"
    },
    {
     "name": "stdout",
     "output_type": "stream",
     "text": [
      "Refazendo perguntas para o ep #festinha\n"
     ]
    },
    {
     "data": {
      "application/vnd.jupyter.widget-view+json": {
       "model_id": "a66dde53c5654bb6a0191847d7b26957",
       "version_major": 2,
       "version_minor": 0
      },
      "text/plain": [
       "transcriptions/natal-headless.json:   0%|          | 0/11 [00:00<?, ?it/s]"
      ]
     },
     "metadata": {},
     "output_type": "display_data"
    },
    {
     "name": "stdout",
     "output_type": "stream",
     "text": [
      "Refazendo perguntas para o ep #renascer\n"
     ]
    },
    {
     "data": {
      "application/vnd.jupyter.widget-view+json": {
       "model_id": "4cbef65d33a149f19f6c79a33f1fae32",
       "version_major": 2,
       "version_minor": 0
      },
      "text/plain": [
       "transcriptions/ferias-headless.json:   0%|          | 0/12 [00:00<?, ?it/s]"
      ]
     },
     "metadata": {},
     "output_type": "display_data"
    },
    {
     "name": "stdout",
     "output_type": "stream",
     "text": [
      "Refazendo perguntas para o ep #perigo\n",
      "Refazendo perguntas para o ep #alpes\n"
     ]
    },
    {
     "data": {
      "application/vnd.jupyter.widget-view+json": {
       "model_id": "0739ff36273a4670bb6f25c112089fd0",
       "version_major": 2,
       "version_minor": 0
      },
      "text/plain": [
       "transcriptions/mico-meu-headless.json:   0%|          | 0/25 [00:00<?, ?it/s]"
      ]
     },
     "metadata": {},
     "output_type": "display_data"
    },
    {
     "name": "stdout",
     "output_type": "stream",
     "text": [
      "Refazendo perguntas para o ep #fibras\n",
      "Refazendo perguntas para o ep #faxina\n",
      "Refazendo perguntas para o ep #faxina\n",
      "Refazendo perguntas para o ep #requeijao\n",
      "Refazendo perguntas para o ep #carteado\n"
     ]
    },
    {
     "data": {
      "application/vnd.jupyter.widget-view+json": {
       "model_id": "bf997055aa8b49a28d4e6aa5156f5541",
       "version_major": 2,
       "version_minor": 0
      },
      "text/plain": [
       "transcriptions/picole-de-limao-headless.json:   0%|          | 0/562 [00:00<?, ?it/s]"
      ]
     },
     "metadata": {},
     "output_type": "display_data"
    },
    {
     "name": "stdout",
     "output_type": "stream",
     "text": [
      "Refazendo perguntas para o ep #aparencias\n",
      "Refazendo perguntas para o ep #fgts\n",
      "Refazendo perguntas para o ep #ingles\n",
      "Refazendo perguntas para o ep #doente\n",
      "Refazendo perguntas para o ep #piedade\n",
      "Refazendo perguntas para o ep #piedade\n",
      "Refazendo perguntas para o ep #amarrado\n",
      "Refazendo perguntas para o ep #gerentedebanco\n",
      "Refazendo perguntas para o ep #coitadinha\n",
      "Refazendo perguntas para o ep #queridinho\n",
      "Refazendo perguntas para o ep #queridinho\n",
      "Refazendo perguntas para o ep #badalo\n",
      "Refazendo perguntas para o ep #paixao\n",
      "Refazendo perguntas para o ep #peso\n",
      "Refazendo perguntas para o ep #peso\n",
      "Refazendo perguntas para o ep #lenhador\n",
      "Refazendo perguntas para o ep #melda\n",
      "Refazendo perguntas para o ep #desaparecido\n",
      "Refazendo perguntas para o ep #tumor\n",
      "Refazendo perguntas para o ep #boca\n",
      "Refazendo perguntas para o ep #mascara\n",
      "Refazendo perguntas para o ep #fogueteira\n",
      "Refazendo perguntas para o ep #fofinho\n",
      "Refazendo perguntas para o ep #bolinho\n",
      "Refazendo perguntas para o ep #dor\n",
      "Refazendo perguntas para o ep #jejum\n",
      "Refazendo perguntas para o ep #neon\n",
      "Refazendo perguntas para o ep #pastadedente\n",
      "Refazendo perguntas para o ep #pastadedente\n",
      "Refazendo perguntas para o ep #enteada\n",
      "Refazendo perguntas para o ep #enteada\n",
      "Refazendo perguntas para o ep #recanto\n",
      "Refazendo perguntas para o ep #recanto\n",
      "Refazendo perguntas para o ep #padeiro\n",
      "Refazendo perguntas para o ep #bichinho\n",
      "Refazendo perguntas para o ep #chato\n",
      "Refazendo perguntas para o ep #tormenta\n",
      "Refazendo perguntas para o ep #chiclete\n",
      "Refazendo perguntas para o ep #criatura\n",
      "Refazendo perguntas para o ep #flat\n",
      "Refazendo perguntas para o ep #nicole\n",
      "Refazendo perguntas para o ep #curiosa\n",
      "Refazendo perguntas para o ep #desonesta\n",
      "Refazendo perguntas para o ep #tampao\n",
      "Refazendo perguntas para o ep #luto\n",
      "Refazendo perguntas para o ep #leitinho\n",
      "Refazendo perguntas para o ep #sinalzinho\n",
      "Refazendo perguntas para o ep #noivazilla\n",
      "Refazendo perguntas para o ep #noivazilla\n",
      "Refazendo perguntas para o ep #paifolgado\n",
      "Refazendo perguntas para o ep #neide\n",
      "Refazendo perguntas para o ep #neide\n",
      "Refazendo perguntas para o ep #bebe\n",
      "Refazendo perguntas para o ep #surra\n",
      "Refazendo perguntas para o ep #surra\n",
      "Refazendo perguntas para o ep #rosas\n",
      "Refazendo perguntas para o ep #tres\n",
      "Refazendo perguntas para o ep #marlon\n",
      "Refazendo perguntas para o ep #alergia\n",
      "Refazendo perguntas para o ep #presentes\n",
      "Refazendo perguntas para o ep #viagem\n",
      "Refazendo perguntas para o ep #colegas\n",
      "Refazendo perguntas para o ep #hortifruti\n",
      "Refazendo perguntas para o ep #uniaoestavel\n",
      "Refazendo perguntas para o ep #bolsa\n",
      "Refazendo perguntas para o ep #pe\n",
      "Refazendo perguntas para o ep #pe\n",
      "Refazendo perguntas para o ep #vale\n",
      "Refazendo perguntas para o ep #maratona\n",
      "Refazendo perguntas para o ep #piramide\n",
      "Refazendo perguntas para o ep #ursinho\n",
      "Refazendo perguntas para o ep #luadefel\n",
      "Refazendo perguntas para o ep #vacina\n",
      "Refazendo perguntas para o ep #quarto\n",
      "Refazendo perguntas para o ep #chule\n",
      "Refazendo perguntas para o ep #duvida\n",
      "Refazendo perguntas para o ep #maquinadelavar\n",
      "Refazendo perguntas para o ep #familia\n",
      "Refazendo perguntas para o ep #familia\n",
      "Refazendo perguntas para o ep #verme\n",
      "Refazendo perguntas para o ep #verme\n",
      "Refazendo perguntas para o ep #verme\n",
      "Refazendo perguntas para o ep #verme\n",
      "Refazendo perguntas para o ep #artesanato\n",
      "Refazendo perguntas para o ep #artesanato\n",
      "Refazendo perguntas para o ep #marido\n",
      "Refazendo perguntas para o ep #marido\n",
      "Refazendo perguntas para o ep #bailarina\n",
      "Refazendo perguntas para o ep #apetite\n",
      "Refazendo perguntas para o ep #queijoevinho\n"
     ]
    }
   ],
   "source": [
    "for json_path in glob(\"transcriptions/*.json\"):\n",
    "    \n",
    "    with open(json_path, \"r\") as jsonFile:\n",
    "        eps = json.load(jsonFile)\n",
    "    new_eps = []\n",
    "    \n",
    "    for ep in tqdm(eps, desc=json_path):\n",
    "        new_info = {}\n",
    "        new_info[\"has_questions\"] = False\n",
    "        transcription = ep[\"transcription\"]\n",
    "        if \"Assinante\" in transcription:\n",
    "            transcription = transcription.split(\"Assinante\")[0]\n",
    "        transcription = transcription.replace(\"\\n\", \"\").replace(\"[vinheta]\", \"\").replace(\"[trilha]\", \"\").replace(\"[risos]\", \"\")\n",
    "        content = f\"The following text is a transcription of a podcast episode. \" \\\n",
    "            f\"Your task is to generate three questions, answers and quotes that sustain the answer (in Portuguese) about the story told. \" \\\n",
    "            \"You must follow this rule to generate your responses in a JSON-like format:\" \\\n",
    "            \"{'Perguntas':['question1','question2','question3'],'Respostas':['answer1','answer2','answer3'],'Trechos':['quote1','quote2','quote3']}. \" \\\n",
    "            \"It is VERY IMPORTANT that you follow the rule. Do NOT use any other special characters. \"\\\n",
    "            \"Generate your questions ONLY about the characters and the story told. \" \\\n",
    "            \"Please do not write anything other than what was asked. Remember: write questions and answers in Portuguese. \" \\\n",
    "            \"The transcription starts now: \"\\\n",
    "            f\"{transcription}\"\n",
    "        while not new_info[\"has_questions\"]:\n",
    "            try:\n",
    "                chat_completion = client.chat.completions.create(\n",
    "                                        messages=[\n",
    "                                            {\n",
    "                                                \"role\": \"user\",\n",
    "                                                \"content\": content,\n",
    "                                            }\n",
    "                                        ],\n",
    "                                        model=\"llama3-70b-8192\",\n",
    "                                    )\n",
    "            except:\n",
    "                content = content[:-500]\n",
    "                time.sleep(60)\n",
    "                continue\n",
    "            try:\n",
    "                transcription_ = chat_completion.choices[0].message.content\n",
    "                transcription_ = \"{\" + transcription_.split(\"{\")[1] if len(transcription_.split(\"{\")) > 1 else transcription_\n",
    "                transcription_ = transcription_.split(\"}\")[0] + \"}\" if len(transcription_.split(\"}\")) > 1 else transcription_\n",
    "                QAC = ast.literal_eval(transcription_)\n",
    "                new_info = new_info | QAC\n",
    "                new_info[\"has_questions\"] = True\n",
    "            except:\n",
    "                tqdm.write(f\"Refazendo perguntas para o ep {ep[\"hashtag\"]}\")\n",
    "        ep = ep | new_info\n",
    "        new_eps.append(ep)\n",
    "        time.sleep(10)\n",
    "    new_file_path = json_path.split(\".json\")[0] + \"-perguntas.json\"\n",
    "    with open(new_file_path, \"w\", encoding='utf-8') as newJsonFile:\n",
    "        json.dump(new_eps, newJsonFile, indent=4, ensure_ascii=False)"
   ]
  }
 ],
 "metadata": {
  "kernelspec": {
   "display_name": "Python 3 (ipykernel)",
   "language": "python",
   "name": "python3"
  },
  "language_info": {
   "codemirror_mode": {
    "name": "ipython",
    "version": 3
   },
   "file_extension": ".py",
   "mimetype": "text/x-python",
   "name": "python",
   "nbconvert_exporter": "python",
   "pygments_lexer": "ipython3",
   "version": "3.12.3"
  }
 },
 "nbformat": 4,
 "nbformat_minor": 5
}
