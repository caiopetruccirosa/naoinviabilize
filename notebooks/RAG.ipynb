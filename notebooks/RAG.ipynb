{
 "cells": [
  {
   "cell_type": "code",
   "execution_count": 1,
   "metadata": {},
   "outputs": [
    {
     "name": "stdout",
     "output_type": "stream",
     "text": [
      "Collecting pt-core-news-sm==3.7.0\n",
      "  Downloading https://github.com/explosion/spacy-models/releases/download/pt_core_news_sm-3.7.0/pt_core_news_sm-3.7.0-py3-none-any.whl (13.0 MB)\n",
      "\u001b[2K     \u001b[90m━━━━━━━━━━━━━━━━━━━━━━━━━━━━━━━━━━━━━━━━\u001b[0m \u001b[32m13.0/13.0 MB\u001b[0m \u001b[31m11.6 MB/s\u001b[0m eta \u001b[36m0:00:00\u001b[0m00:01\u001b[0m00:01\u001b[0m\n",
      "\u001b[?25hRequirement already satisfied: spacy<3.8.0,>=3.7.0 in /home/caiopetruccirosa/anaconda3/envs/naoinviabilize/lib/python3.12/site-packages (from pt-core-news-sm==3.7.0) (3.7.5)\n",
      "Requirement already satisfied: spacy-legacy<3.1.0,>=3.0.11 in /home/caiopetruccirosa/anaconda3/envs/naoinviabilize/lib/python3.12/site-packages (from spacy<3.8.0,>=3.7.0->pt-core-news-sm==3.7.0) (3.0.12)\n",
      "Requirement already satisfied: spacy-loggers<2.0.0,>=1.0.0 in /home/caiopetruccirosa/anaconda3/envs/naoinviabilize/lib/python3.12/site-packages (from spacy<3.8.0,>=3.7.0->pt-core-news-sm==3.7.0) (1.0.5)\n",
      "Requirement already satisfied: murmurhash<1.1.0,>=0.28.0 in /home/caiopetruccirosa/anaconda3/envs/naoinviabilize/lib/python3.12/site-packages (from spacy<3.8.0,>=3.7.0->pt-core-news-sm==3.7.0) (1.0.10)\n",
      "Requirement already satisfied: cymem<2.1.0,>=2.0.2 in /home/caiopetruccirosa/anaconda3/envs/naoinviabilize/lib/python3.12/site-packages (from spacy<3.8.0,>=3.7.0->pt-core-news-sm==3.7.0) (2.0.8)\n",
      "Requirement already satisfied: preshed<3.1.0,>=3.0.2 in /home/caiopetruccirosa/anaconda3/envs/naoinviabilize/lib/python3.12/site-packages (from spacy<3.8.0,>=3.7.0->pt-core-news-sm==3.7.0) (3.0.9)\n",
      "Requirement already satisfied: thinc<8.3.0,>=8.2.2 in /home/caiopetruccirosa/anaconda3/envs/naoinviabilize/lib/python3.12/site-packages (from spacy<3.8.0,>=3.7.0->pt-core-news-sm==3.7.0) (8.2.5)\n",
      "Requirement already satisfied: wasabi<1.2.0,>=0.9.1 in /home/caiopetruccirosa/anaconda3/envs/naoinviabilize/lib/python3.12/site-packages (from spacy<3.8.0,>=3.7.0->pt-core-news-sm==3.7.0) (1.1.3)\n",
      "Requirement already satisfied: srsly<3.0.0,>=2.4.3 in /home/caiopetruccirosa/anaconda3/envs/naoinviabilize/lib/python3.12/site-packages (from spacy<3.8.0,>=3.7.0->pt-core-news-sm==3.7.0) (2.4.8)\n",
      "Requirement already satisfied: catalogue<2.1.0,>=2.0.6 in /home/caiopetruccirosa/anaconda3/envs/naoinviabilize/lib/python3.12/site-packages (from spacy<3.8.0,>=3.7.0->pt-core-news-sm==3.7.0) (2.0.10)\n",
      "Requirement already satisfied: weasel<0.5.0,>=0.1.0 in /home/caiopetruccirosa/anaconda3/envs/naoinviabilize/lib/python3.12/site-packages (from spacy<3.8.0,>=3.7.0->pt-core-news-sm==3.7.0) (0.4.1)\n",
      "Requirement already satisfied: typer<1.0.0,>=0.3.0 in /home/caiopetruccirosa/anaconda3/envs/naoinviabilize/lib/python3.12/site-packages (from spacy<3.8.0,>=3.7.0->pt-core-news-sm==3.7.0) (0.12.3)\n",
      "Requirement already satisfied: tqdm<5.0.0,>=4.38.0 in /home/caiopetruccirosa/anaconda3/envs/naoinviabilize/lib/python3.12/site-packages (from spacy<3.8.0,>=3.7.0->pt-core-news-sm==3.7.0) (4.66.4)\n",
      "Requirement already satisfied: requests<3.0.0,>=2.13.0 in /home/caiopetruccirosa/anaconda3/envs/naoinviabilize/lib/python3.12/site-packages (from spacy<3.8.0,>=3.7.0->pt-core-news-sm==3.7.0) (2.32.3)\n",
      "Requirement already satisfied: pydantic!=1.8,!=1.8.1,<3.0.0,>=1.7.4 in /home/caiopetruccirosa/anaconda3/envs/naoinviabilize/lib/python3.12/site-packages (from spacy<3.8.0,>=3.7.0->pt-core-news-sm==3.7.0) (2.7.4)\n",
      "Requirement already satisfied: jinja2 in /home/caiopetruccirosa/anaconda3/envs/naoinviabilize/lib/python3.12/site-packages (from spacy<3.8.0,>=3.7.0->pt-core-news-sm==3.7.0) (3.1.4)\n",
      "Requirement already satisfied: setuptools in /home/caiopetruccirosa/anaconda3/envs/naoinviabilize/lib/python3.12/site-packages (from spacy<3.8.0,>=3.7.0->pt-core-news-sm==3.7.0) (70.1.1)\n",
      "Requirement already satisfied: packaging>=20.0 in /home/caiopetruccirosa/anaconda3/envs/naoinviabilize/lib/python3.12/site-packages (from spacy<3.8.0,>=3.7.0->pt-core-news-sm==3.7.0) (24.1)\n",
      "Requirement already satisfied: langcodes<4.0.0,>=3.2.0 in /home/caiopetruccirosa/anaconda3/envs/naoinviabilize/lib/python3.12/site-packages (from spacy<3.8.0,>=3.7.0->pt-core-news-sm==3.7.0) (3.4.0)\n",
      "Requirement already satisfied: numpy>=1.19.0 in /home/caiopetruccirosa/anaconda3/envs/naoinviabilize/lib/python3.12/site-packages (from spacy<3.8.0,>=3.7.0->pt-core-news-sm==3.7.0) (1.26.4)\n",
      "Requirement already satisfied: language-data>=1.2 in /home/caiopetruccirosa/anaconda3/envs/naoinviabilize/lib/python3.12/site-packages (from langcodes<4.0.0,>=3.2.0->spacy<3.8.0,>=3.7.0->pt-core-news-sm==3.7.0) (1.2.0)\n",
      "Requirement already satisfied: annotated-types>=0.4.0 in /home/caiopetruccirosa/anaconda3/envs/naoinviabilize/lib/python3.12/site-packages (from pydantic!=1.8,!=1.8.1,<3.0.0,>=1.7.4->spacy<3.8.0,>=3.7.0->pt-core-news-sm==3.7.0) (0.7.0)\n",
      "Requirement already satisfied: pydantic-core==2.18.4 in /home/caiopetruccirosa/anaconda3/envs/naoinviabilize/lib/python3.12/site-packages (from pydantic!=1.8,!=1.8.1,<3.0.0,>=1.7.4->spacy<3.8.0,>=3.7.0->pt-core-news-sm==3.7.0) (2.18.4)\n",
      "Requirement already satisfied: typing-extensions>=4.6.1 in /home/caiopetruccirosa/anaconda3/envs/naoinviabilize/lib/python3.12/site-packages (from pydantic!=1.8,!=1.8.1,<3.0.0,>=1.7.4->spacy<3.8.0,>=3.7.0->pt-core-news-sm==3.7.0) (4.12.2)\n",
      "Requirement already satisfied: charset-normalizer<4,>=2 in /home/caiopetruccirosa/anaconda3/envs/naoinviabilize/lib/python3.12/site-packages (from requests<3.0.0,>=2.13.0->spacy<3.8.0,>=3.7.0->pt-core-news-sm==3.7.0) (3.3.2)\n",
      "Requirement already satisfied: idna<4,>=2.5 in /home/caiopetruccirosa/anaconda3/envs/naoinviabilize/lib/python3.12/site-packages (from requests<3.0.0,>=2.13.0->spacy<3.8.0,>=3.7.0->pt-core-news-sm==3.7.0) (3.7)\n",
      "Requirement already satisfied: urllib3<3,>=1.21.1 in /home/caiopetruccirosa/anaconda3/envs/naoinviabilize/lib/python3.12/site-packages (from requests<3.0.0,>=2.13.0->spacy<3.8.0,>=3.7.0->pt-core-news-sm==3.7.0) (2.2.2)\n",
      "Requirement already satisfied: certifi>=2017.4.17 in /home/caiopetruccirosa/anaconda3/envs/naoinviabilize/lib/python3.12/site-packages (from requests<3.0.0,>=2.13.0->spacy<3.8.0,>=3.7.0->pt-core-news-sm==3.7.0) (2024.6.2)\n",
      "Requirement already satisfied: blis<0.8.0,>=0.7.8 in /home/caiopetruccirosa/anaconda3/envs/naoinviabilize/lib/python3.12/site-packages (from thinc<8.3.0,>=8.2.2->spacy<3.8.0,>=3.7.0->pt-core-news-sm==3.7.0) (0.7.11)\n",
      "Requirement already satisfied: confection<1.0.0,>=0.0.1 in /home/caiopetruccirosa/anaconda3/envs/naoinviabilize/lib/python3.12/site-packages (from thinc<8.3.0,>=8.2.2->spacy<3.8.0,>=3.7.0->pt-core-news-sm==3.7.0) (0.1.5)\n",
      "Requirement already satisfied: click>=8.0.0 in /home/caiopetruccirosa/anaconda3/envs/naoinviabilize/lib/python3.12/site-packages (from typer<1.0.0,>=0.3.0->spacy<3.8.0,>=3.7.0->pt-core-news-sm==3.7.0) (8.1.7)\n",
      "Requirement already satisfied: shellingham>=1.3.0 in /home/caiopetruccirosa/anaconda3/envs/naoinviabilize/lib/python3.12/site-packages (from typer<1.0.0,>=0.3.0->spacy<3.8.0,>=3.7.0->pt-core-news-sm==3.7.0) (1.5.4)\n",
      "Requirement already satisfied: rich>=10.11.0 in /home/caiopetruccirosa/anaconda3/envs/naoinviabilize/lib/python3.12/site-packages (from typer<1.0.0,>=0.3.0->spacy<3.8.0,>=3.7.0->pt-core-news-sm==3.7.0) (13.7.1)\n",
      "Requirement already satisfied: cloudpathlib<1.0.0,>=0.7.0 in /home/caiopetruccirosa/anaconda3/envs/naoinviabilize/lib/python3.12/site-packages (from weasel<0.5.0,>=0.1.0->spacy<3.8.0,>=3.7.0->pt-core-news-sm==3.7.0) (0.18.1)\n",
      "Requirement already satisfied: smart-open<8.0.0,>=5.2.1 in /home/caiopetruccirosa/anaconda3/envs/naoinviabilize/lib/python3.12/site-packages (from weasel<0.5.0,>=0.1.0->spacy<3.8.0,>=3.7.0->pt-core-news-sm==3.7.0) (7.0.4)\n",
      "Requirement already satisfied: MarkupSafe>=2.0 in /home/caiopetruccirosa/anaconda3/envs/naoinviabilize/lib/python3.12/site-packages (from jinja2->spacy<3.8.0,>=3.7.0->pt-core-news-sm==3.7.0) (2.1.5)\n",
      "Requirement already satisfied: marisa-trie>=0.7.7 in /home/caiopetruccirosa/anaconda3/envs/naoinviabilize/lib/python3.12/site-packages (from language-data>=1.2->langcodes<4.0.0,>=3.2.0->spacy<3.8.0,>=3.7.0->pt-core-news-sm==3.7.0) (1.2.0)\n",
      "Requirement already satisfied: markdown-it-py>=2.2.0 in /home/caiopetruccirosa/anaconda3/envs/naoinviabilize/lib/python3.12/site-packages (from rich>=10.11.0->typer<1.0.0,>=0.3.0->spacy<3.8.0,>=3.7.0->pt-core-news-sm==3.7.0) (3.0.0)\n",
      "Requirement already satisfied: pygments<3.0.0,>=2.13.0 in /home/caiopetruccirosa/anaconda3/envs/naoinviabilize/lib/python3.12/site-packages (from rich>=10.11.0->typer<1.0.0,>=0.3.0->spacy<3.8.0,>=3.7.0->pt-core-news-sm==3.7.0) (2.18.0)\n",
      "Requirement already satisfied: wrapt in /home/caiopetruccirosa/anaconda3/envs/naoinviabilize/lib/python3.12/site-packages (from smart-open<8.0.0,>=5.2.1->weasel<0.5.0,>=0.1.0->spacy<3.8.0,>=3.7.0->pt-core-news-sm==3.7.0) (1.16.0)\n",
      "Requirement already satisfied: mdurl~=0.1 in /home/caiopetruccirosa/anaconda3/envs/naoinviabilize/lib/python3.12/site-packages (from markdown-it-py>=2.2.0->rich>=10.11.0->typer<1.0.0,>=0.3.0->spacy<3.8.0,>=3.7.0->pt-core-news-sm==3.7.0) (0.1.2)\n",
      "\u001b[38;5;2m✔ Download and installation successful\u001b[0m\n",
      "You can now load the package via spacy.load('pt_core_news_sm')\n"
     ]
    }
   ],
   "source": [
    "!python -m spacy download pt_core_news_sm"
   ]
  },
  {
   "cell_type": "code",
   "execution_count": 11,
   "metadata": {},
   "outputs": [],
   "source": [
    "import json\n",
    "import os\n",
    "import logging\n",
    "import sys\n",
    "\n",
    "# NOTE: This is ONLY necessary in jupyter notebook.\n",
    "# Details: Jupyter runs an event-loop behind the scenes.\n",
    "#          This results in nested event-loops when we start an event-loop to make async queries.\n",
    "#          This is normally not allowed, we use nest_asyncio to allow it for convenience.\n",
    "import nest_asyncio\n",
    "\n",
    "\n",
    "from llama_index.core import Document, QueryBundle\n",
    "from llama_index.core.schema import TextNode\n",
    "from llama_index.core.postprocessor import SentenceTransformerRerank\n",
    "from llama_index.retrievers.bm25 import BM25Retriever\n",
    "from llama_index.llms.groq import Groq\n",
    "\n",
    "import spacy\n",
    "\n",
    "from glob import glob\n",
    "from dataclasses import dataclass\n",
    "from typing import List, Dict\n",
    "from thefuzz import process"
   ]
  },
  {
   "cell_type": "code",
   "execution_count": 16,
   "metadata": {},
   "outputs": [],
   "source": [
    "nest_asyncio.apply()\n",
    "\n",
    "os.environ[\"GROQ_API_KEY\"] = \"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\"\n",
    "\n",
    "logging.basicConfig(stream=sys.stdout, level=logging.INFO)\n",
    "logging.getLogger().handlers = []\n",
    "logging.getLogger().addHandler(logging.StreamHandler(stream=sys.stdout))"
   ]
  },
  {
   "cell_type": "code",
   "execution_count": 17,
   "metadata": {},
   "outputs": [],
   "source": [
    "SENTENCE_WINDOW_SIZE = 5\n",
    "SENTENCE_WINDOW_STRIDE = 2\n",
    "\n",
    "TOP_K = 4\n",
    "BM25_TOP_K = 1000\n",
    "\n",
    "LLM_MODEL = \"llama3-70b-8192\"\n",
    "RERANKER_MODEL = \"unicamp-dl/monoptt5-base\""
   ]
  },
  {
   "cell_type": "code",
   "execution_count": 18,
   "metadata": {},
   "outputs": [],
   "source": [
    "def get_transcription_documents(base_transcriptions_path):\n",
    "    transcription_documents = []\n",
    "\n",
    "    for transcriptions_path in glob(base_transcriptions_path):\n",
    "        with open(transcriptions_path) as f:\n",
    "            transcriptions = json.load(f)\n",
    "        \n",
    "        for transcription in transcriptions:\n",
    "            transcription_documents.append(\n",
    "                Document(\n",
    "                    text=transcription['transcription'],\n",
    "                    metadata={\n",
    "                        'title': transcription['title'],\n",
    "                        'publishing_date': transcription['publishing_date'],\n",
    "                        'quadro': transcription['quadro'],\n",
    "                        'hashtag': transcription['hashtag'],\n",
    "                    },\n",
    "                )\n",
    "            )\n",
    "            \n",
    "    return transcription_documents"
   ]
  },
  {
   "cell_type": "code",
   "execution_count": 19,
   "metadata": {},
   "outputs": [],
   "source": [
    "def sliding_window_split(documents, stride, window_size):\n",
    "    sentencizer = spacy.blank('pt')\n",
    "    sentencizer.add_pipe('sentencizer')\n",
    "    \n",
    "    window_documents = []\n",
    "\n",
    "    for document in documents:\n",
    "        doc_sentencized = sentencizer(document.text)\n",
    "        sentences = [sent.text.strip() for sent in doc_sentencized.sents]\n",
    "        for i in range(0, len(sentences), stride):\n",
    "            window_text = ' '.join(sentences[i : min(len(sentences), i+window_size)]).strip()\n",
    "            window_metadata = document.metadata.copy()\n",
    "            window_metadata['parent_document_id'] = document.id_\n",
    "            window_documents.append(Document(text=window_text, metadata=window_metadata))\n",
    "\n",
    "    return window_documents"
   ]
  },
  {
   "cell_type": "code",
   "execution_count": 20,
   "metadata": {},
   "outputs": [],
   "source": [
    "def get_transcriptions_nodes(transcription_documents):\n",
    "    transcription_window_documents = sliding_window_split(transcription_documents, SENTENCE_WINDOW_STRIDE, SENTENCE_WINDOW_SIZE)\n",
    "    \n",
    "    transcription_nodes = dict()\n",
    "    for document in transcription_window_documents:\n",
    "        new_node = TextNode(id=document.id_, text=document.text, metadata=document.metadata)\n",
    "        if new_node.metadata['title'] not in transcription_nodes.keys():\n",
    "            transcription_nodes[document.metadata['title']] = [new_node]\n",
    "        else:\n",
    "            transcription_nodes[document.metadata['title']].append(new_node)\n",
    "    \n",
    "    return transcription_nodes"
   ]
  },
  {
   "cell_type": "code",
   "execution_count": 21,
   "metadata": {},
   "outputs": [
    {
     "data": {
      "text/plain": [
       "Document(id_='3634badd-9af2-479a-9656-9ba2f423d3ab', embedding=None, metadata={'title': 'fome', 'publishing_date': '06/06/2024', 'quadro': 'luz acesa', 'hashtag': '#fome'}, excluded_embed_metadata_keys=[], excluded_llm_metadata_keys=[], relationships={}, text='[vinheta] Shhhh… Luz Acesa, história de dar medo. [vinheta]\\n\\n\\n\\nDéia Freitas: Oi, gente… Cheguei. Cheguei para um Luz Acesa. — Talvez esse Luz Acesa seja um pouco mais impressionante, fiquem atentos aí a algum gatilho. — Hoje eu vou contar para vocês a história da Thalita. Então vamos lá, vamos de história.\\n\\n\\n\\n\\n[trilha]\\n\\n\\n\\n\\nA Thalita ela trabalha numa empresa — como é que eu vou dizer, vou simplificar — de prensas. — Quando você tem processos industriais que envolvam metal e que precisem de uma prensa… É num dos braços dessa empresa que a Thalita trabalha que tem isso. — E Thalita sempre se deu muito bem com a galera ali do setor dela de trabalho e, na hora do almoço, ela sempre saía para almoçar junto com outro funcionário, porque assim, eles são em duplas. Como é um trabalho meio — acho que meio não, mas bastante — perigoso e que você tem que ter muita atenção, eles trabalham em duplas e a dupla da Thalita é o Éverton. Então eles sempre saíam pra almoçar juntos e sempre levavam marmita. Eles saíam, iam para o refeitório, comiam a marmita e depois cada um ficava no celular ali, mas sempre juntos. — Thalita e Everton. —\\n\\n\\n\\n\\nE o Everton sempre levava uma mega marmita, ele comia muito, gostava muito de comer… — Delícia, né? Arroz, feijão e tal… — E a Thalita mais moderada ali na marmitinha dela. Até que um dia, um pouco antes do almoço, o Everton falou: “Thalita, eu esqueci a minha marmita”, e aí a Thalita falou: “Eu não acredito… Minha marmitinha é micra, não dá para comer nós dois e tal” e ele falou: “Não, eu já pedi comida lá no bar da rua de trás e eu vou lá buscar. Então, assim que eu bater o meu cartão aqui, minha marmita já vai estar pronta lá e eu vou lá, pego, volto e a gente almoça, beleza?”, “beleza”. Quando deu meio—dia, o Éverton bateu o cartão dele e foi buscar a marmita… — Então, gente, era coisa de dez minutos… Tipo 12:10, era assim, estourado, pra ele estar de volta… — Deu 12h10 e nada do Everton, 12h20 nada do Everton, 12h25 a Thalita mandou mensagem, falou: “Meu, você enroscou no caminho aí? Você encontrou alguém? Que foi?”, não teve resposta nenhuma no WhatsApp da Thalita.\\n\\n\\n\\n\\nThalita abriu a marmita dela e foi comer, porque senão daqui a pouco acabava o horário de almoço… Ela ficou pensando: “De repente, o Everton encontrou alguém no bar e almoçou no bar”. Então ela acabou ali de comer a marmita dela e foi fazer o que ela faz sempre, sentar lá onde ela sentava com o celular para dar uma olhada — porque durante o expediente ali eles não podem pegar o celular para ver, né? — Deu 13h, um pouquinho antes 13h, ela foi, marcou o ponto dela e ela voltou pro setor. Quando ela voltou pro setor, ela percebeu que o chefe dela ali, o encarregado, estava estranho, estava uma movimentação estranha, estava tudo estranho. E ninguém falava nada pra ela e nem pra ninguém, né? — Para as outras duplas ali que trabalhavam naquele setor. — E aí, passado ali mais meia hora, a Thalita foi chamada pelo encarregado que disse que o Éverton tinha sofrido um acidente… Quando ele foi buscar a marmita — ele tinha que ir na rua de trás e era uma descida — ele estava de fone de ouvido descendo pela calçada, certinho, só que ele não ouviu as pessoas gritando que um caminhão — que era de um depósito de material de construção que ficava lá no alto dessa descida — tinha perdido o freio… \\n\\n\\n\\n\\nO cara estacionou e não puxou direito o freio de mão e o caminhão desceu, gente, sem ninguém no volante e prensou o Éverton num poste. O Everton morreu na hora… — Ele estava indo buscar a sua marmita… — Então, aquela movimentação é porque o corpo dele ainda estava lá e precisava vir perícia e tal, e eles tinham que avisar a família, enfim, uma tragédia. A Thalita ficou de um jeito que ela passou mal — ela tinha comido —, foi para o banheiro, botou tudo para fora e não conseguiu mais voltar… Primeiro que ela precisava ter uma dupla para fazer o trabalho que ela executava ali junto com o Éverton e, segundo que ela não tinha mais condição, ela foi dispensada do trabalho e a empresa pediu para o motorista lá levar ela em casa, não passar por onde estava o Everton… E a Thalita foi pra casa dela. Thalita morando sozinha — numa kitnet —, chegou, mas muito arrasada, muito mal, entrou em casa, sentou, tirou a roupa, foi tomar um banho para poder chorar embaixo do chuveiro, né? Saiu do chuveiro, a Thalita já tinha a mania de levar roupa para o banheiro, já sair trocada… — Mesmo morando sozinha ela sempre teve esse hábito. —\\n\\n\\n\\nEra um banheiro e o quarto já era ali junto com a cozinha, tudo junto, né? Enquanto ela estava botando a roupa no banheiro, ela teve a impressão de ter ouvido um barulho… Ter ouvido um barulho ali na partezinha da kitnet dela que era a cozinha. Quando a Thalita saiu, ela deu de cara com o Éverton… [música de tensão] E aí, na cabeça da Thalita não fazia sentido, assim… “Então o Éverton não morreu? Ele saiu correndo e, sei lá, ele veio para cá para me avisar?”, na cabeça dela não fazia sentido o Éverton ali na casa dela. E, quando ela olhou melhor, ela percebeu que ele não, ele não tinha uma perna. Quando ele virava meio que de lado, ele estava meio amassado, meio rasgado, enfim… — O acidente, gente, que ele sofreu… — E ele olhando pra Thalita, ele falava: “Thalita, o meu almoço… Eu estou com fome, eu tô com fome”. A Thalita conseguiu chegar na cama dela e sentar e ela apagou… Quando ela acordou — porque isso que ela chegou na casa dela já era ali umas três da tarde —, quando ela voltou a si, já estava meio escuro, já eram umas cinco e pouco… E aí ela foi, acendeu as luzes e tal: “Meu Deus, eu fiquei tão mal que eu alucinei”. \\n\\n\\n\\n\\nIa dar seis horas, como ela tinha colocado a comida para fora, ela não conseguiu almoçar, digerir aquela comida, ela estava com fome… E aí ela foi e pegou a comida que estava na geladeira, fez o prato, botou no microondas… Quando a Thalita virou, o Everton estava atrás dela… E ela escutava… Ele estava com uma voz muito fraca e ele falava: “Thalita, eu estou com fome… Thalita, estou com fome”. — Ele morreu com fome, né? —\\n\\n\\n\\nE aí a Thalita falou: “Não, meu Deus, tenho que firmar o corpo, eu estou ficando louca, não vou desmaiar, não vou cair”, e aí ela olhou fixamente para ele e ele desapareceu. Thalita não conseguiu comer, pegou as coisas dela e saiu… — Foi para a casa de uma amiga. — No dia seguinte, o Everton seria sepultado às 17h00, então 16h00 os funcionários todos foram dispensados para poder ir no velório do Éverton, a Thalita foi também, assim, muito mal, mas foi. No velório tinha uma lanchonete, porque geralmente velório tem, né? E alguém comeu um pão e jogou no chão metade, sei lá quem… A Thalita viu o Éverton tentando comer aquele pão do chão… E aí ela teve uma crise de choro que as pessoas atribuíram ao que estava acontecendo ali, né? E ele tentava comer o pão, gente, ele estava com fome… \\n\\n\\n\\n\\nThalita chorou, chorou, chorou e ele via ele circulando ali pelo cemitério. Ele não olhava para as pessoas, ele olhava para o chão tentando achar alguma coisa para conseguir comer, mas ele não conseguia comer, não conseguia pegar as coisas. Thalita foi embora, o Everton no dia seguinte apareceu de novo na casa dela e aí ela resolveu procurar ajuda. Na firma dela tinha uma moça que frequentava um centro de umbanda e ela contou para essa moça, essa moça ficou horrorizada e falou: “Não, a gente tem que conversar com a minha Mãe de Santo” e ela mandou uma mensagem para a Mãe de Santo, explicou tudo o que tinha acontecido e a Mãe de Santo falou: “Vocês saiam daí 18h e venham pra cá”. — Isso foi no dia seguinte que ela falou com a amiga. — E aí a Mãe de Santo recebeu as duas e falou para Thalita, falou: “Ele veio com você… Aqui ele não consegue entrar, mas ele veio com você e a gente vai encaminhar ele”. E aí fez umas coisas lá, né? Umas coisas da religião dela lá na hora, junto com a Thalita e falou que realmente ele estava apegado ainda à matéria e estava com fome… \\n\\n\\n\\n\\nE estava começando já também a sentir dor, ele falava, né? Nessa hora a Thalita não conseguia ouvir, mas ela percebeu a Mãe de Santo conversando com o Éverton. Ela não sabe o que foi feito, a Mãe de Santo — que a gente pode chamar aqui, sei lá, de Mãe Joelma —, Mãe Joelma falou para ela: “Filha, pode ir em paz que agora ele vai ficar aqui, ele vai ser cuidado e vai ser encaminhado”. A Thalita foi embora e nunca mais o Everton apareceu para ela, assim, ela ficou muito assustada um tempo depois e ela até perguntou para a Mãe de Santo: “Eu preciso pagar alguma coisa?” e ela falou: “Não, imagina, esse é o meu dever. Você pode ir que agora ele não vai conseguir ir atrás de você… Daqui ele vai ser encaminhado, ele vai ser levado e vai procurar a paz dele também, enfim, seguir o caminho dele”. — Aí a Mãe de Santo falou pra ela que que o nosso caminho não encerra aqui, né? Que aqui é só uma passagem, enfim… Então que ele ia ter esse auxílio para poder seguir o caminho dele, né? E ainda bem, né, gente? Que ela encontrou essa mãe de santo… Pensa… Mãe Joelma salvou… —\\n\\n\\n\\n\\nMe deu uma pena dele com fome, gente… Ele sem entender, morrendo de fome, tentando comer as coisas no chão, pedindo comida para Thalita. Eu fiquei arrasado com essa história, arrasada com essa história… Meu Deus do céu, Deus me livre morrer com fome. Fiquei mal com essa história. Mal… Nem assustada fiquei tanto, porque se me aparece um espírito me pedindo comida, como é que eu vou dar comida? Como que faz, gente? Porque se eu tivesse como dar comida pro cara, eu dava. Se botar no prato e deixar a pessoa tentar comer ajuda ou é pior? Porque eu faria, gente… Eu acho que nesse caso, talvez eu nem ficasse assustada, eu ia ficar tão nessas de “meu Deus, a pessoa está com fome” mesmo morta que eu, sei lá, ia dar uma coxinha pro falecido, não sei…\\n\\n\\n\\n\\n[trilha]\\n\\n\\n\\nAssinante 1: Olá, Não Inviabilizers, aqui é Paula, de São Paulo, Thalita, acredito que por ter sido uma morte instantânea, horrível, então ele morreu com fome, infelizmente acabou se apegando a você depois de morto, querendo comer, que ele só queria comer porque a fome dói, né? A fome dói tanto em vida quanto depois de morto, eu acredito que doa também. E ainda bem que a mãe Joelma apareceu para ajuda-lo e acredito que agora ele esteja aí num bom lugar. Espero que você esteja hoje em dia muito bem e que você só tenha pensamentos de luz aí para o Éverton. Um grande beijo, Thalita. \\n\\n\\n\\nAssinante 2: Aqui é Fernanda de Niterói, Rio de Janeiro. Eu já vi colocar frango na esquina, farofa, bebida alcoólica, mas dar coxinha para o morto nunca vi, hein, Déia? Nossa, essa história me deixou com muita pena. Fiquei com muita pena do moço que morreu. Pena por dois motivos: Morrer trabalhando deve ser uma droga. Imagina, você trabalhou metade do dia e depois morreu? Eu quero morrer depois de me divertir muito. Mas enfim, fiquei com muita pena dele ter ficado com fome. Podia ser depois. do almoço pelo menos, né? Eu não sei pra onde a gente vai depois que morre, mas pra onde ele foi tomara que tenha muita comida e que ele esteja muito bem. \\n\\n\\n\\n[trilha]\\n\\n\\n\\nDéia Freitas: Comentem lá no nosso grupo do Telegram, sejam gentis com a Thalita. — É uma história muito difícil para ela também. E eu fiquei mal, gente, fiquei arrasada… Deus me livre. — Um beijo e eu volto em breve.\\n\\n\\n\\n[vinheta] Quer sua história contada aqui? Escreva para naoinviabilize@gmail.com. Luz Acesa é um quadro do canal Não Inviabilize. [vinheta]', mimetype='text/plain', start_char_idx=None, end_char_idx=None, text_template='{metadata_str}\\n\\n{content}', metadata_template='{key}: {value}', metadata_seperator='\\n')"
      ]
     },
     "execution_count": 21,
     "metadata": {},
     "output_type": "execute_result"
    }
   ],
   "source": [
    "transcription_documents = get_transcription_documents(\"../transcriptions-headless/*.json\")\n",
    "\n",
    "transcription_documents[0]"
   ]
  },
  {
   "cell_type": "code",
   "execution_count": 22,
   "metadata": {},
   "outputs": [
    {
     "data": {
      "text/plain": [
       "[TextNode(id_='84181b12-b1de-429e-b75d-f0b370197ddb', embedding=None, metadata={'title': 'milton', 'publishing_date': '18/03/2024', 'quadro': 'amor nas redes', 'hashtag': '#milton', 'parent_document_id': '85b840c3-44b1-4a8e-ba0c-7050a19116fc'}, excluded_embed_metadata_keys=[], excluded_llm_metadata_keys=[], relationships={}, text='[vinheta] Amor nas Redes, sua história é contada aqui. [ vinheta]\\n\\n\\n\\nDéia Freitas: Oi, gente… Cheguei. Cheguei para mais um Amor nas Redes. E hoje eu vou contar para vocês a história do Reinaldo. Então vamos lá, vamos de história.', mimetype='text/plain', start_char_idx=None, end_char_idx=None, text_template='{metadata_str}\\n\\n{content}', metadata_template='{key}: {value}', metadata_seperator='\\n'),\n",
       " TextNode(id_='75ef1941-e09f-43e5-93a8-fefba2d480e3', embedding=None, metadata={'title': 'milton', 'publishing_date': '18/03/2024', 'quadro': 'amor nas redes', 'hashtag': '#milton', 'parent_document_id': '85b840c3-44b1-4a8e-ba0c-7050a19116fc'}, excluded_embed_metadata_keys=[], excluded_llm_metadata_keys=[], relationships={}, text='Cheguei para mais um Amor nas Redes. E hoje eu vou contar para vocês a história do Reinaldo. Então vamos lá, vamos de história. [trilha]\\n\\n\\n\\nO Reinaldo conheceu a Elaine e depois de um namoro de um ano e pouco, resolveram casar. [ efeito sonoro de sino soando] Bom, casamento foi ok, Elaine engravidou, nasceu o bebezinho Fabiano… [efeito sonoro de bebê chorando] O relacionamento durou mais quatro anos e depois desses quatro anos, tanto a Elaine quanto o Reinaldo, eles já estavam aí desgastados.', mimetype='text/plain', start_char_idx=None, end_char_idx=None, text_template='{metadata_str}\\n\\n{content}', metadata_template='{key}: {value}', metadata_seperator='\\n'),\n",
       " TextNode(id_='c7de3cd1-da94-46fb-9074-9b0202882e96', embedding=None, metadata={'title': 'milton', 'publishing_date': '18/03/2024', 'quadro': 'amor nas redes', 'hashtag': '#milton', 'parent_document_id': '85b840c3-44b1-4a8e-ba0c-7050a19116fc'}, excluded_embed_metadata_keys=[], excluded_llm_metadata_keys=[], relationships={}, text='Então vamos lá, vamos de história. [trilha]\\n\\n\\n\\nO Reinaldo conheceu a Elaine e depois de um namoro de um ano e pouco, resolveram casar. [ efeito sonoro de sino soando] Bom, casamento foi ok, Elaine engravidou, nasceu o bebezinho Fabiano… [efeito sonoro de bebê chorando] O relacionamento durou mais quatro anos e depois desses quatro anos, tanto a Elaine quanto o Reinaldo, eles já estavam aí desgastados. Cada um com queixas sobre o relacionamento e, em comum acordo, eles resolveram se divorciar. A guarda foi mantida como compartilhada e a pensão ajustada ali dentro do que a Elaine pediu.', mimetype='text/plain', start_char_idx=None, end_char_idx=None, text_template='{metadata_str}\\n\\n{content}', metadata_template='{key}: {value}', metadata_seperator='\\n'),\n",
       " TextNode(id_='7e3bfe47-4165-46fa-832e-9194690461ea', embedding=None, metadata={'title': 'milton', 'publishing_date': '18/03/2024', 'quadro': 'amor nas redes', 'hashtag': '#milton', 'parent_document_id': '85b840c3-44b1-4a8e-ba0c-7050a19116fc'}, excluded_embed_metadata_keys=[], excluded_llm_metadata_keys=[], relationships={}, text='efeito sonoro de sino soando] Bom, casamento foi ok, Elaine engravidou, nasceu o bebezinho Fabiano… [efeito sonoro de bebê chorando] O relacionamento durou mais quatro anos e depois desses quatro anos, tanto a Elaine quanto o Reinaldo, eles já estavam aí desgastados. Cada um com queixas sobre o relacionamento e, em comum acordo, eles resolveram se divorciar. A guarda foi mantida como compartilhada e a pensão ajustada ali dentro do que a Elaine pediu. O Reinaldo pegava o filho toda semana, então não tinha dia certo, ele podia pegar o dia que ele quisesse, eles faziam arranjos sobre quem ia buscar na escola, quem ia pegar… — O Reinaldo gosta muito de fazer lição de casa junto com o Fabiano…. — E assim o tempo foi passando, Fabiano hoje está com nove anos e ano passado — o Fabiano com oito anos —, um dia o Fabiano chegou aí na casa do Reinaldo com um aviãozinho desses de aeromodelo.', mimetype='text/plain', start_char_idx=None, end_char_idx=None, text_template='{metadata_str}\\n\\n{content}', metadata_template='{key}: {value}', metadata_seperator='\\n'),\n",
       " TextNode(id_='ca0a71f5-67b8-4634-83cb-db18a09d9a46', embedding=None, metadata={'title': 'milton', 'publishing_date': '18/03/2024', 'quadro': 'amor nas redes', 'hashtag': '#milton', 'parent_document_id': '85b840c3-44b1-4a8e-ba0c-7050a19116fc'}, excluded_embed_metadata_keys=[], excluded_llm_metadata_keys=[], relationships={}, text='A guarda foi mantida como compartilhada e a pensão ajustada ali dentro do que a Elaine pediu. O Reinaldo pegava o filho toda semana, então não tinha dia certo, ele podia pegar o dia que ele quisesse, eles faziam arranjos sobre quem ia buscar na escola, quem ia pegar… — O Reinaldo gosta muito de fazer lição de casa junto com o Fabiano…. — E assim o tempo foi passando, Fabiano hoje está com nove anos e ano passado — o Fabiano com oito anos —, um dia o Fabiano chegou aí na casa do Reinaldo com um aviãozinho desses de aeromodelo. E aí o Reinaldo falou: “Nossa, que avião bacana, o que que é isso?”, e aí o Fabiano começou: “Pai, você não sabe, a mãe tá namorando um cara maravilhoso, o Milton… O Milton que faz esses aviões e ele me deu esse avião e ele está fazendo a lição de casa comigo e, nossa, o Milton, o Milton, o Milton…”, e aí o Fabiano ele estava muito empolgado com o novo namorado da mãe e o Reinaldo ali ficou com ciúme… Da Elaine?', mimetype='text/plain', start_char_idx=None, end_char_idx=None, text_template='{metadata_str}\\n\\n{content}', metadata_template='{key}: {value}', metadata_seperator='\\n'),\n",
       " TextNode(id_='b5ae2514-c8c8-452b-a723-b3e3b1c31453', embedding=None, metadata={'title': 'milton', 'publishing_date': '18/03/2024', 'quadro': 'amor nas redes', 'hashtag': '#milton', 'parent_document_id': '85b840c3-44b1-4a8e-ba0c-7050a19116fc'}, excluded_embed_metadata_keys=[], excluded_llm_metadata_keys=[], relationships={}, text='E assim o tempo foi passando, Fabiano hoje está com nove anos e ano passado — o Fabiano com oito anos —, um dia o Fabiano chegou aí na casa do Reinaldo com um aviãozinho desses de aeromodelo. E aí o Reinaldo falou: “Nossa, que avião bacana, o que que é isso?”, e aí o Fabiano começou: “Pai, você não sabe, a mãe tá namorando um cara maravilhoso, o Milton… O Milton que faz esses aviões e ele me deu esse avião e ele está fazendo a lição de casa comigo e, nossa, o Milton, o Milton, o Milton…”, e aí o Fabiano ele estava muito empolgado com o novo namorado da mãe e o Reinaldo ali ficou com ciúme… Da Elaine? Não. Mesmo porque o relacionamento entre Elaine e Reinaldo não era dos melhores, assim… Foi esfriando, a Elaine foi ficando mais na dela e tal e eles acabavam que eles nem conversavam mais, só sobre coisas do Fabiano e muito, assim, de maneira protocolar. —', mimetype='text/plain', start_char_idx=None, end_char_idx=None, text_template='{metadata_str}\\n\\n{content}', metadata_template='{key}: {value}', metadata_seperator='\\n'),\n",
       " TextNode(id_='95a64f81-f975-443f-be9a-ae2db7383199', embedding=None, metadata={'title': 'milton', 'publishing_date': '18/03/2024', 'quadro': 'amor nas redes', 'hashtag': '#milton', 'parent_document_id': '85b840c3-44b1-4a8e-ba0c-7050a19116fc'}, excluded_embed_metadata_keys=[], excluded_llm_metadata_keys=[], relationships={}, text='e aí o Fabiano começou: “Pai, você não sabe, a mãe tá namorando um cara maravilhoso, o Milton… O Milton que faz esses aviões e ele me deu esse avião e ele está fazendo a lição de casa comigo e, nossa, o Milton, o Milton, o Milton…”, e aí o Fabiano ele estava muito empolgado com o novo namorado da mãe e o Reinaldo ali ficou com ciúme… Da Elaine? Não. Mesmo porque o relacionamento entre Elaine e Reinaldo não era dos melhores, assim… Foi esfriando, a Elaine foi ficando mais na dela e tal e eles acabavam que eles nem conversavam mais, só sobre coisas do Fabiano e muito, assim, de maneira protocolar. — Então, ele não estava com ciúme da Elaine, ele estava com ciúme do Fabiano. — Parecia que ali o Fabiano tinha encontrado um novo pai.', mimetype='text/plain', start_char_idx=None, end_char_idx=None, text_template='{metadata_str}\\n\\n{content}', metadata_template='{key}: {value}', metadata_seperator='\\n'),\n",
       " TextNode(id_='1a4c457e-60e0-472d-97d4-79b94c84bcda', embedding=None, metadata={'title': 'milton', 'publishing_date': '18/03/2024', 'quadro': 'amor nas redes', 'hashtag': '#milton', 'parent_document_id': '85b840c3-44b1-4a8e-ba0c-7050a19116fc'}, excluded_embed_metadata_keys=[], excluded_llm_metadata_keys=[], relationships={}, text='Mesmo porque o relacionamento entre Elaine e Reinaldo não era dos melhores, assim… Foi esfriando, a Elaine foi ficando mais na dela e tal e eles acabavam que eles nem conversavam mais, só sobre coisas do Fabiano e muito, assim, de maneira protocolar. — Então, ele não estava com ciúme da Elaine, ele estava com ciúme do Fabiano. — Parecia que ali o Fabiano tinha encontrado um novo pai. E passou aqueles dias que o Reinaldo ficou com o Fabiano e, no final de semana seguinte, ele ia pegar o menino… — Ele só avisava a Elaine, via se ela tinha algum plano com o Fabiano, se não tivesse, ele pegava. — E aí ele avisou a Elaine e a Elaine falou: “Olha, conversa com o Fabiano, porque ele marcou alguma coisa com o Milton”, o Fabiano tinha marcado de ir jogar futebol com a turma… O Milton tem uma turma lá de futebol e tal e ele ia junto… E aí aquilo já: “Ai meu Deus”, foi remoendo o Reinaldo e, a partir daí, o Reinaldo criou um ódio sem conhecer e nem nunca ver o Milton. —', mimetype='text/plain', start_char_idx=None, end_char_idx=None, text_template='{metadata_str}\\n\\n{content}', metadata_template='{key}: {value}', metadata_seperator='\\n'),\n",
       " TextNode(id_='99a276ad-1462-4a6c-ab5b-46d3e7bd281a', embedding=None, metadata={'title': 'milton', 'publishing_date': '18/03/2024', 'quadro': 'amor nas redes', 'hashtag': '#milton', 'parent_document_id': '85b840c3-44b1-4a8e-ba0c-7050a19116fc'}, excluded_embed_metadata_keys=[], excluded_llm_metadata_keys=[], relationships={}, text='Parecia que ali o Fabiano tinha encontrado um novo pai. E passou aqueles dias que o Reinaldo ficou com o Fabiano e, no final de semana seguinte, ele ia pegar o menino… — Ele só avisava a Elaine, via se ela tinha algum plano com o Fabiano, se não tivesse, ele pegava. — E aí ele avisou a Elaine e a Elaine falou: “Olha, conversa com o Fabiano, porque ele marcou alguma coisa com o Milton”, o Fabiano tinha marcado de ir jogar futebol com a turma… O Milton tem uma turma lá de futebol e tal e ele ia junto… E aí aquilo já: “Ai meu Deus”, foi remoendo o Reinaldo e, a partir daí, o Reinaldo criou um ódio sem conhecer e nem nunca ver o Milton. — Um ódio… — Tudo que o Fabiano falava do Milton, ele falava baixinho assim: “Milton… Ai, lá vem ele, ai o Milton… Tudo é o Milton… Milton, Milton…” e ele tava realmente com ciúme do Fabiano e com medo de perder aquela posição de pai presente, porque o Reinaldo é muito presente, né? E aí o tempo foi passando, ele com ódio do Milton e o Fabiano só falava do Milton, ele com ódio… Mas ele pensou: “É o namorado da Elaine, eu não tenho que falar nada com ela, né?', mimetype='text/plain', start_char_idx=None, end_char_idx=None, text_template='{metadata_str}\\n\\n{content}', metadata_template='{key}: {value}', metadata_seperator='\\n'),\n",
       " TextNode(id_='2a366d46-9edd-4bd1-94a8-ff0bacf72aea', embedding=None, metadata={'title': 'milton', 'publishing_date': '18/03/2024', 'quadro': 'amor nas redes', 'hashtag': '#milton', 'parent_document_id': '85b840c3-44b1-4a8e-ba0c-7050a19116fc'}, excluded_embed_metadata_keys=[], excluded_llm_metadata_keys=[], relationships={}, text='E aí ele avisou a Elaine e a Elaine falou: “Olha, conversa com o Fabiano, porque ele marcou alguma coisa com o Milton”, o Fabiano tinha marcado de ir jogar futebol com a turma… O Milton tem uma turma lá de futebol e tal e ele ia junto… E aí aquilo já: “Ai meu Deus”, foi remoendo o Reinaldo e, a partir daí, o Reinaldo criou um ódio sem conhecer e nem nunca ver o Milton. — Um ódio… — Tudo que o Fabiano falava do Milton, ele falava baixinho assim: “Milton… Ai, lá vem ele, ai o Milton… Tudo é o Milton… Milton, Milton…” e ele tava realmente com ciúme do Fabiano e com medo de perder aquela posição de pai presente, porque o Reinaldo é muito presente, né? E aí o tempo foi passando, ele com ódio do Milton e o Fabiano só falava do Milton, ele com ódio… Mas ele pensou: “É o namorado da Elaine, eu não tenho que falar nada com ela, né? Ele tá tratando o meu filho bem, é isso, eu tenho que lidar com isso”. Até que um dia, a Elaine manda aí uma mensagem para o Reinaldo avisando que eles iam casar, Milton e Elaine.', mimetype='text/plain', start_char_idx=None, end_char_idx=None, text_template='{metadata_str}\\n\\n{content}', metadata_template='{key}: {value}', metadata_seperator='\\n'),\n",
       " TextNode(id_='d8b6ba0e-8416-43ae-b5b8-b3cc451e55b6', embedding=None, metadata={'title': 'milton', 'publishing_date': '18/03/2024', 'quadro': 'amor nas redes', 'hashtag': '#milton', 'parent_document_id': '85b840c3-44b1-4a8e-ba0c-7050a19116fc'}, excluded_embed_metadata_keys=[], excluded_llm_metadata_keys=[], relationships={}, text='E aí o tempo foi passando, ele com ódio do Milton e o Fabiano só falava do Milton, ele com ódio… Mas ele pensou: “É o namorado da Elaine, eu não tenho que falar nada com ela, né? Ele tá tratando o meu filho bem, é isso, eu tenho que lidar com isso”. Até que um dia, a Elaine manda aí uma mensagem para o Reinaldo avisando que eles iam casar, Milton e Elaine. E aí pronto, né? Reinaldo falou: “Agora eu vou perder meu filho, porque o Fabiano vai acordar e dormir com o Milton.', mimetype='text/plain', start_char_idx=None, end_char_idx=None, text_template='{metadata_str}\\n\\n{content}', metadata_template='{key}: {value}', metadata_seperator='\\n'),\n",
       " TextNode(id_='acb0d004-90c6-4a31-b11b-41b52aa844e9', embedding=None, metadata={'title': 'milton', 'publishing_date': '18/03/2024', 'quadro': 'amor nas redes', 'hashtag': '#milton', 'parent_document_id': '85b840c3-44b1-4a8e-ba0c-7050a19116fc'}, excluded_embed_metadata_keys=[], excluded_llm_metadata_keys=[], relationships={}, text='Até que um dia, a Elaine manda aí uma mensagem para o Reinaldo avisando que eles iam casar, Milton e Elaine. E aí pronto, né? Reinaldo falou: “Agora eu vou perder meu filho, porque o Fabiano vai acordar e dormir com o Milton. Acabou pai… Acabou pai”. E ali, naquela mensagem, a Elaine só estava comunicando, né?', mimetype='text/plain', start_char_idx=None, end_char_idx=None, text_template='{metadata_str}\\n\\n{content}', metadata_template='{key}: {value}', metadata_seperator='\\n'),\n",
       " TextNode(id_='79ef6175-6135-4fa1-b5a7-9c6cf1139ba1', embedding=None, metadata={'title': 'milton', 'publishing_date': '18/03/2024', 'quadro': 'amor nas redes', 'hashtag': '#milton', 'parent_document_id': '85b840c3-44b1-4a8e-ba0c-7050a19116fc'}, excluded_embed_metadata_keys=[], excluded_llm_metadata_keys=[], relationships={}, text='Reinaldo falou: “Agora eu vou perder meu filho, porque o Fabiano vai acordar e dormir com o Milton. Acabou pai… Acabou pai”. E ali, naquela mensagem, a Elaine só estava comunicando, né? E ela não convidou o Reinaldo… E ele também ficou magoado, porque ele falou: “Por mais que a gente não conversasse, Andréia, a gente nunca brigou… Ela podia ter me convidado pro casamento dela”, não convidou… O casamento era dali três meses. Aí um dia o Reinaldo tá ali esperando o Fabiano chegar, porque era a vez da Elaine buscar, então ela falou: “Bom, eu vou buscar ele na escola e já deixo ele aí na sua casa”.', mimetype='text/plain', start_char_idx=None, end_char_idx=None, text_template='{metadata_str}\\n\\n{content}', metadata_template='{key}: {value}', metadata_seperator='\\n'),\n",
       " TextNode(id_='fbe7052c-37a0-47cf-bc9f-988954e96872', embedding=None, metadata={'title': 'milton', 'publishing_date': '18/03/2024', 'quadro': 'amor nas redes', 'hashtag': '#milton', 'parent_document_id': '85b840c3-44b1-4a8e-ba0c-7050a19116fc'}, excluded_embed_metadata_keys=[], excluded_llm_metadata_keys=[], relationships={}, text='E ali, naquela mensagem, a Elaine só estava comunicando, né? E ela não convidou o Reinaldo… E ele também ficou magoado, porque ele falou: “Por mais que a gente não conversasse, Andréia, a gente nunca brigou… Ela podia ter me convidado pro casamento dela”, não convidou… O casamento era dali três meses. Aí um dia o Reinaldo tá ali esperando o Fabiano chegar, porque era a vez da Elaine buscar, então ela falou: “Bom, eu vou buscar ele na escola e já deixo ele aí na sua casa”. E o Fabiano chegou com um homem e um avião na mão… Um aeromodelo maior… — E esses aeromodelos eles tinham controle remoto, então era um negócio muito legal. — O Reinaldo falou pra mim: “Andréia, eu não tinha como competir com um cara que faz aviãozinho que voa, cara.. Sabe?', mimetype='text/plain', start_char_idx=None, end_char_idx=None, text_template='{metadata_str}\\n\\n{content}', metadata_template='{key}: {value}', metadata_seperator='\\n'),\n",
       " TextNode(id_='4afa0e30-31bb-4c7f-b763-cab8043d2c84', embedding=None, metadata={'title': 'milton', 'publishing_date': '18/03/2024', 'quadro': 'amor nas redes', 'hashtag': '#milton', 'parent_document_id': '85b840c3-44b1-4a8e-ba0c-7050a19116fc'}, excluded_embed_metadata_keys=[], excluded_llm_metadata_keys=[], relationships={}, text='Aí um dia o Reinaldo tá ali esperando o Fabiano chegar, porque era a vez da Elaine buscar, então ela falou: “Bom, eu vou buscar ele na escola e já deixo ele aí na sua casa”. E o Fabiano chegou com um homem e um avião na mão… Um aeromodelo maior… — E esses aeromodelos eles tinham controle remoto, então era um negócio muito legal. — O Reinaldo falou pra mim: “Andréia, eu não tinha como competir com um cara que faz aviãozinho que voa, cara.. Sabe? E mal sei fazer uma saboneteira de palito com meu filho”, então, ele tava puto. E chegou ali o Fabiano com o cara e ele deduziu que o cara era o Milton, porque só tava o Fabiano e o cara no carro.', mimetype='text/plain', start_char_idx=None, end_char_idx=None, text_template='{metadata_str}\\n\\n{content}', metadata_template='{key}: {value}', metadata_seperator='\\n'),\n",
       " TextNode(id_='84d9d233-ba64-4c5d-8058-cba7ab29db2d', embedding=None, metadata={'title': 'milton', 'publishing_date': '18/03/2024', 'quadro': 'amor nas redes', 'hashtag': '#milton', 'parent_document_id': '85b840c3-44b1-4a8e-ba0c-7050a19116fc'}, excluded_embed_metadata_keys=[], excluded_llm_metadata_keys=[], relationships={}, text='O Reinaldo falou pra mim: “Andréia, eu não tinha como competir com um cara que faz aviãozinho que voa, cara.. Sabe? E mal sei fazer uma saboneteira de palito com meu filho”, então, ele tava puto. E chegou ali o Fabiano com o cara e ele deduziu que o cara era o Milton, porque só tava o Fabiano e o cara no carro. E aí ele já deu uma fechada na cara e o cara desceu… Milton com um sorriso de fora a fora e o Reinaldo falou: “Andréia, Milton é bonito, hein? Que homem bonito… A Elaine ele me trocou por uma coisa melhor, uma coisa boa, realmente”.', mimetype='text/plain', start_char_idx=None, end_char_idx=None, text_template='{metadata_str}\\n\\n{content}', metadata_template='{key}: {value}', metadata_seperator='\\n'),\n",
       " TextNode(id_='fdfa2178-5874-472d-aa29-358d45759791', embedding=None, metadata={'title': 'milton', 'publishing_date': '18/03/2024', 'quadro': 'amor nas redes', 'hashtag': '#milton', 'parent_document_id': '85b840c3-44b1-4a8e-ba0c-7050a19116fc'}, excluded_embed_metadata_keys=[], excluded_llm_metadata_keys=[], relationships={}, text='E chegou ali o Fabiano com o cara e ele deduziu que o cara era o Milton, porque só tava o Fabiano e o cara no carro. E aí ele já deu uma fechada na cara e o cara desceu… Milton com um sorriso de fora a fora e o Reinaldo falou: “Andréia, Milton é bonito, hein? Que homem bonito… A Elaine ele me trocou por uma coisa melhor, uma coisa boa, realmente”. E aí ele já ficou com mais ódio, porque Milton, além de tudo, além de ser pai do meu filho, faz avião, é bonito? “ Vai se ferrar, Milton”, sabe assim?', mimetype='text/plain', start_char_idx=None, end_char_idx=None, text_template='{metadata_str}\\n\\n{content}', metadata_template='{key}: {value}', metadata_seperator='\\n'),\n",
       " TextNode(id_='d32fdf0b-2810-4469-8e0f-2d7e0d87316c', embedding=None, metadata={'title': 'milton', 'publishing_date': '18/03/2024', 'quadro': 'amor nas redes', 'hashtag': '#milton', 'parent_document_id': '85b840c3-44b1-4a8e-ba0c-7050a19116fc'}, excluded_embed_metadata_keys=[], excluded_llm_metadata_keys=[], relationships={}, text='Que homem bonito… A Elaine ele me trocou por uma coisa melhor, uma coisa boa, realmente”. E aí ele já ficou com mais ódio, porque Milton, além de tudo, além de ser pai do meu filho, faz avião, é bonito? “ Vai se ferrar, Milton”, sabe assim? Com ódio. [ risos] O Milton desceu com aquele avião enorme e ele falou: “Pronto, ó, já deu um avião maior para o meu filho, esse filho da puta desse Milton”, [risos] —  Que ódio do Milton o Reinaldo… [risos] \\n\\n\\n\\n\\nE aí o Milton chegou e falou: “Tudo bem, Reinaldo?', mimetype='text/plain', start_char_idx=None, end_char_idx=None, text_template='{metadata_str}\\n\\n{content}', metadata_template='{key}: {value}', metadata_seperator='\\n'),\n",
       " TextNode(id_='637e253e-5a53-406b-a71f-ff54357d9d6f', embedding=None, metadata={'title': 'milton', 'publishing_date': '18/03/2024', 'quadro': 'amor nas redes', 'hashtag': '#milton', 'parent_document_id': '85b840c3-44b1-4a8e-ba0c-7050a19116fc'}, excluded_embed_metadata_keys=[], excluded_llm_metadata_keys=[], relationships={}, text='Vai se ferrar, Milton”, sabe assim? Com ódio. [ risos] O Milton desceu com aquele avião enorme e ele falou: “Pronto, ó, já deu um avião maior para o meu filho, esse filho da puta desse Milton”, [risos] —  Que ódio do Milton o Reinaldo… [risos] \\n\\n\\n\\n\\nE aí o Milton chegou e falou: “Tudo bem, Reinaldo? Eu sou o Milton, prazer e tal”, ele falou: “Prazer e tal” e o Fabiano já foi correndo lá pra dentro de casa para deixar a mochila, as coisas… E aí ele falou: “Cara, eu trouxe esse avião aqui para você” e ele falou: “Pra mim?” e o Reinaldo, poxa, ele falou: “Andréia, quem não quer ter um aviãozinho que voa?', mimetype='text/plain', start_char_idx=None, end_char_idx=None, text_template='{metadata_str}\\n\\n{content}', metadata_template='{key}: {value}', metadata_seperator='\\n'),\n",
       " TextNode(id_='fc7e5fed-b3f0-44d8-8699-f7233e18df4b', embedding=None, metadata={'title': 'milton', 'publishing_date': '18/03/2024', 'quadro': 'amor nas redes', 'hashtag': '#milton', 'parent_document_id': '85b840c3-44b1-4a8e-ba0c-7050a19116fc'}, excluded_embed_metadata_keys=[], excluded_llm_metadata_keys=[], relationships={}, text='risos] O Milton desceu com aquele avião enorme e ele falou: “Pronto, ó, já deu um avião maior para o meu filho, esse filho da puta desse Milton”, [risos] —  Que ódio do Milton o Reinaldo… [risos] \\n\\n\\n\\n\\nE aí o Milton chegou e falou: “Tudo bem, Reinaldo? Eu sou o Milton, prazer e tal”, ele falou: “Prazer e tal” e o Fabiano já foi correndo lá pra dentro de casa para deixar a mochila, as coisas… E aí ele falou: “Cara, eu trouxe esse avião aqui para você” e ele falou: “Pra mim?” e o Reinaldo, poxa, ele falou: “Andréia, quem não quer ter um aviãozinho que voa? É igual um drone, mano. [ risos] Pô, ele sobe, ele voa, circula e desce… Amo… Mas eu estava com ódio”, aí ele falou: “Pra mim?', mimetype='text/plain', start_char_idx=None, end_char_idx=None, text_template='{metadata_str}\\n\\n{content}', metadata_template='{key}: {value}', metadata_seperator='\\n'),\n",
       " TextNode(id_='37333f0c-4cef-4511-8933-e6f32cc9bd60', embedding=None, metadata={'title': 'milton', 'publishing_date': '18/03/2024', 'quadro': 'amor nas redes', 'hashtag': '#milton', 'parent_document_id': '85b840c3-44b1-4a8e-ba0c-7050a19116fc'}, excluded_embed_metadata_keys=[], excluded_llm_metadata_keys=[], relationships={}, text='e o Reinaldo, poxa, ele falou: “Andréia, quem não quer ter um aviãozinho que voa? É igual um drone, mano. [ risos] Pô, ele sobe, ele voa, circula e desce… Amo… Mas eu estava com ódio”, aí ele falou: “Pra mim? Imagina… Não precisa, né?” e ele falou: “Não, faço questão, sou eu que faço esses aviões e tal, eu tenho uma loja de avião” e ele já ficou com mais raiva, falou: “Pô, empresário, bem-sucedido, com loja?', mimetype='text/plain', start_char_idx=None, end_char_idx=None, text_template='{metadata_str}\\n\\n{content}', metadata_template='{key}: {value}', metadata_seperator='\\n'),\n",
       " TextNode(id_='b849a90a-6120-4bc5-b8bc-f9179d59f7c1', embedding=None, metadata={'title': 'milton', 'publishing_date': '18/03/2024', 'quadro': 'amor nas redes', 'hashtag': '#milton', 'parent_document_id': '85b840c3-44b1-4a8e-ba0c-7050a19116fc'}, excluded_embed_metadata_keys=[], excluded_llm_metadata_keys=[], relationships={}, text='risos] Pô, ele sobe, ele voa, circula e desce… Amo… Mas eu estava com ódio”, aí ele falou: “Pra mim? Imagina… Não precisa, né?” e ele falou: “Não, faço questão, sou eu que faço esses aviões e tal, eu tenho uma loja de avião” e ele já ficou com mais raiva, falou: “Pô, empresário, bem-sucedido, com loja? Vai se ferrar, Milton”, [risos] pensando, né? Aí ele falou: “Não, então… Esse avião aqui é pra você, cara… Eu queria te dar e tal, a gente vai em tal lugar pra ver, pra poder botar ele pra voar e tal, eu queria te convidar para você ir junto com a gente, pra botar esse seu avião também para voar”.', mimetype='text/plain', start_char_idx=None, end_char_idx=None, text_template='{metadata_str}\\n\\n{content}', metadata_template='{key}: {value}', metadata_seperator='\\n'),\n",
       " TextNode(id_='2cb59249-89ba-449f-9c44-f79bf8175bfd', embedding=None, metadata={'title': 'milton', 'publishing_date': '18/03/2024', 'quadro': 'amor nas redes', 'hashtag': '#milton', 'parent_document_id': '85b840c3-44b1-4a8e-ba0c-7050a19116fc'}, excluded_embed_metadata_keys=[], excluded_llm_metadata_keys=[], relationships={}, text='e ele falou: “Não, faço questão, sou eu que faço esses aviões e tal, eu tenho uma loja de avião” e ele já ficou com mais raiva, falou: “Pô, empresário, bem-sucedido, com loja? Vai se ferrar, Milton”, [risos] pensando, né? Aí ele falou: “Não, então… Esse avião aqui é pra você, cara… Eu queria te dar e tal, a gente vai em tal lugar pra ver, pra poder botar ele pra voar e tal, eu queria te convidar para você ir junto com a gente, pra botar esse seu avião também para voar”. E aí o Reinaldo achou estranho, falou: “O que é esse cara? Além de tudo ele é legal?', mimetype='text/plain', start_char_idx=None, end_char_idx=None, text_template='{metadata_str}\\n\\n{content}', metadata_template='{key}: {value}', metadata_seperator='\\n'),\n",
       " TextNode(id_='7701969e-09ff-4512-a31d-9ec69a97c796', embedding=None, metadata={'title': 'milton', 'publishing_date': '18/03/2024', 'quadro': 'amor nas redes', 'hashtag': '#milton', 'parent_document_id': '85b840c3-44b1-4a8e-ba0c-7050a19116fc'}, excluded_embed_metadata_keys=[], excluded_llm_metadata_keys=[], relationships={}, text='Aí ele falou: “Não, então… Esse avião aqui é pra você, cara… Eu queria te dar e tal, a gente vai em tal lugar pra ver, pra poder botar ele pra voar e tal, eu queria te convidar para você ir junto com a gente, pra botar esse seu avião também para voar”. E aí o Reinaldo achou estranho, falou: “O que é esse cara? Além de tudo ele é legal? O que é isso? O que que é, Milton?', mimetype='text/plain', start_char_idx=None, end_char_idx=None, text_template='{metadata_str}\\n\\n{content}', metadata_template='{key}: {value}', metadata_seperator='\\n'),\n",
       " TextNode(id_='4f084286-8558-40cc-9504-33155a8744ab', embedding=None, metadata={'title': 'milton', 'publishing_date': '18/03/2024', 'quadro': 'amor nas redes', 'hashtag': '#milton', 'parent_document_id': '85b840c3-44b1-4a8e-ba0c-7050a19116fc'}, excluded_embed_metadata_keys=[], excluded_llm_metadata_keys=[], relationships={}, text='Além de tudo ele é legal? O que é isso? O que que é, Milton? Que que é, Milton?”, e aí ele falou: “Ah, tá bom, a gente marca”.', mimetype='text/plain', start_char_idx=None, end_char_idx=None, text_template='{metadata_str}\\n\\n{content}', metadata_template='{key}: {value}', metadata_seperator='\\n'),\n",
       " TextNode(id_='3bb6b120-34cf-44e9-8e2f-f16a8ff4619c', embedding=None, metadata={'title': 'milton', 'publishing_date': '18/03/2024', 'quadro': 'amor nas redes', 'hashtag': '#milton', 'parent_document_id': '85b840c3-44b1-4a8e-ba0c-7050a19116fc'}, excluded_embed_metadata_keys=[], excluded_llm_metadata_keys=[], relationships={}, text='O que que é, Milton? Que que é, Milton?”, e aí ele falou: “Ah, tá bom, a gente marca”. E o Milton falou: “Amanhã você pode?”, e aí pegou o Reinaldo de surpresa, porque foi um: “A gente marca” do tipo “nunca vamos marcar, né?”,', mimetype='text/plain', start_char_idx=None, end_char_idx=None, text_template='{metadata_str}\\n\\n{content}', metadata_template='{key}: {value}', metadata_seperator='\\n'),\n",
       " TextNode(id_='2c055e3b-3680-4407-b32d-c2d2543bbe64', embedding=None, metadata={'title': 'milton', 'publishing_date': '18/03/2024', 'quadro': 'amor nas redes', 'hashtag': '#milton', 'parent_document_id': '85b840c3-44b1-4a8e-ba0c-7050a19116fc'}, excluded_embed_metadata_keys=[], excluded_llm_metadata_keys=[], relationships={}, text='e aí ele falou: “Ah, tá bom, a gente marca”. E o Milton falou: “Amanhã você pode?”, e aí pegou o Reinaldo de surpresa, porque foi um: “A gente marca” do tipo “nunca vamos marcar, né?”, e aí ele falou: “Amanhã não posso”, “Mas e depois de amanhã?”, e aí ele insistiu e acabou marcando data e horário para levar o avião… E o Reinaldo falou: “Meu Deus, que inferno esse Milton”.', mimetype='text/plain', start_char_idx=None, end_char_idx=None, text_template='{metadata_str}\\n\\n{content}', metadata_template='{key}: {value}', metadata_seperator='\\n'),\n",
       " TextNode(id_='88a23848-9123-420b-9c7e-d75735562a21', embedding=None, metadata={'title': 'milton', 'publishing_date': '18/03/2024', 'quadro': 'amor nas redes', 'hashtag': '#milton', 'parent_document_id': '85b840c3-44b1-4a8e-ba0c-7050a19116fc'}, excluded_embed_metadata_keys=[], excluded_llm_metadata_keys=[], relationships={}, text='e aí pegou o Reinaldo de surpresa, porque foi um: “A gente marca” do tipo “nunca vamos marcar, né?”, e aí ele falou: “Amanhã não posso”, “Mas e depois de amanhã?”, e aí ele insistiu e acabou marcando data e horário para levar o avião… E o Reinaldo falou: “Meu Deus, que inferno esse Milton”. Só que o Fabiano já estava muito feliz que o pai ia botar o avião pra voar e ganhou um avião do Milton, porque “ai, o Milton”, “o Milton, o Milton”. E aí chegou o dia, ele foi, ele falou: “Eu vou com meu carro e a gente se encontra lá” e foi ele e o Fabiano para encontrar o Milton lá nesse lugar.', mimetype='text/plain', start_char_idx=None, end_char_idx=None, text_template='{metadata_str}\\n\\n{content}', metadata_template='{key}: {value}', metadata_seperator='\\n'),\n",
       " TextNode(id_='80d66594-9301-4f27-a047-14782370379f', embedding=None, metadata={'title': 'milton', 'publishing_date': '18/03/2024', 'quadro': 'amor nas redes', 'hashtag': '#milton', 'parent_document_id': '85b840c3-44b1-4a8e-ba0c-7050a19116fc'}, excluded_embed_metadata_keys=[], excluded_llm_metadata_keys=[], relationships={}, text='e aí ele insistiu e acabou marcando data e horário para levar o avião… E o Reinaldo falou: “Meu Deus, que inferno esse Milton”. Só que o Fabiano já estava muito feliz que o pai ia botar o avião pra voar e ganhou um avião do Milton, porque “ai, o Milton”, “o Milton, o Milton”. E aí chegou o dia, ele foi, ele falou: “Eu vou com meu carro e a gente se encontra lá” e foi ele e o Fabiano para encontrar o Milton lá nesse lugar. E aí lá eles botaram o aviãozinho pra voar e, assim, gente, Reinaldo amou… Amou… [risos] Ele falou: “Eu fiz assim de durão, mas amei, Andréia, amei meu avião”. [ risos] E aí lá mesmo depois ele falou: “Cara, vamos tomar alguma coisa, uma coca, comer um sanduíche… Eu, você e Fabiano”.', mimetype='text/plain', start_char_idx=None, end_char_idx=None, text_template='{metadata_str}\\n\\n{content}', metadata_template='{key}: {value}', metadata_seperator='\\n'),\n",
       " TextNode(id_='5f8074af-ce6f-4085-91ac-ad5923eb7108', embedding=None, metadata={'title': 'milton', 'publishing_date': '18/03/2024', 'quadro': 'amor nas redes', 'hashtag': '#milton', 'parent_document_id': '85b840c3-44b1-4a8e-ba0c-7050a19116fc'}, excluded_embed_metadata_keys=[], excluded_llm_metadata_keys=[], relationships={}, text='E aí chegou o dia, ele foi, ele falou: “Eu vou com meu carro e a gente se encontra lá” e foi ele e o Fabiano para encontrar o Milton lá nesse lugar. E aí lá eles botaram o aviãozinho pra voar e, assim, gente, Reinaldo amou… Amou… [risos] Ele falou: “Eu fiz assim de durão, mas amei, Andréia, amei meu avião”. [ risos] E aí lá mesmo depois ele falou: “Cara, vamos tomar alguma coisa, uma coca, comer um sanduíche… Eu, você e Fabiano”. E eles foram comer um lanche e conversaram… E aí o Milton falou pra ele: “Cara, você tá sabendo? Eu vou casar com a Elaine e tal e eu queria te dar isso aqui” e era o convite de casamento.', mimetype='text/plain', start_char_idx=None, end_char_idx=None, text_template='{metadata_str}\\n\\n{content}', metadata_template='{key}: {value}', metadata_seperator='\\n'),\n",
       " TextNode(id_='f46ef6df-bc8e-4426-a6bb-871eb1454e07', embedding=None, metadata={'title': 'milton', 'publishing_date': '18/03/2024', 'quadro': 'amor nas redes', 'hashtag': '#milton', 'parent_document_id': '85b840c3-44b1-4a8e-ba0c-7050a19116fc'}, excluded_embed_metadata_keys=[], excluded_llm_metadata_keys=[], relationships={}, text='risos] E aí lá mesmo depois ele falou: “Cara, vamos tomar alguma coisa, uma coca, comer um sanduíche… Eu, você e Fabiano”. E eles foram comer um lanche e conversaram… E aí o Milton falou pra ele: “Cara, você tá sabendo? Eu vou casar com a Elaine e tal e eu queria te dar isso aqui” e era o convite de casamento. Ele falou: “Eu faço questão, você é o pai do Fabiano, a gente vai estar junto, cara, daqui pra frente… Eu queria muito que a gente tivesse uma amizade”. E aí [risos] o Reinaldo falou: “Andréia, o cara é empresário com loja, faz avião, o cara trata meu filho bem, gente boa, lindo… Ah, vai se ferrar, Milton”, mas ele gostou do Milton. [', mimetype='text/plain', start_char_idx=None, end_char_idx=None, text_template='{metadata_str}\\n\\n{content}', metadata_template='{key}: {value}', metadata_seperator='\\n'),\n",
       " TextNode(id_='179783e0-2b74-4acc-b8d2-0a0d604317f4', embedding=None, metadata={'title': 'milton', 'publishing_date': '18/03/2024', 'quadro': 'amor nas redes', 'hashtag': '#milton', 'parent_document_id': '85b840c3-44b1-4a8e-ba0c-7050a19116fc'}, excluded_embed_metadata_keys=[], excluded_llm_metadata_keys=[], relationships={}, text='Eu vou casar com a Elaine e tal e eu queria te dar isso aqui” e era o convite de casamento. Ele falou: “Eu faço questão, você é o pai do Fabiano, a gente vai estar junto, cara, daqui pra frente… Eu queria muito que a gente tivesse uma amizade”. E aí [risos] o Reinaldo falou: “Andréia, o cara é empresário com loja, faz avião, o cara trata meu filho bem, gente boa, lindo… Ah, vai se ferrar, Milton”, mas ele gostou do Milton. [ risos] Ele falou: “Andréia, além de tudo é carismático, Milton… Sabe?”. O Reinaldo foi no casamento, o Milton, aos poucos, foi convencendo a Elaine de que ela devia melhorar o relacionamento com o pai do Fabiano, afinal, eles são pais de uma mesma pessoa, né?', mimetype='text/plain', start_char_idx=None, end_char_idx=None, text_template='{metadata_str}\\n\\n{content}', metadata_template='{key}: {value}', metadata_seperator='\\n'),\n",
       " TextNode(id_='151bf7c5-1dd0-4b2f-bead-3ca7ccf30538', embedding=None, metadata={'title': 'milton', 'publishing_date': '18/03/2024', 'quadro': 'amor nas redes', 'hashtag': '#milton', 'parent_document_id': '85b840c3-44b1-4a8e-ba0c-7050a19116fc'}, excluded_embed_metadata_keys=[], excluded_llm_metadata_keys=[], relationships={}, text='E aí [risos] o Reinaldo falou: “Andréia, o cara é empresário com loja, faz avião, o cara trata meu filho bem, gente boa, lindo… Ah, vai se ferrar, Milton”, mas ele gostou do Milton. [ risos] Ele falou: “Andréia, além de tudo é carismático, Milton… Sabe?”. O Reinaldo foi no casamento, o Milton, aos poucos, foi convencendo a Elaine de que ela devia melhorar o relacionamento com o pai do Fabiano, afinal, eles são pais de uma mesma pessoa, né? E aí, com o tempo, a Elaine foi ficando mais maleável com o Reinaldo e eles foram conversando mais… E hoje, gente, eles são amigos, assim, do Reinaldo ir lá pra casa do Milton e da Elaine pra jogar truco, assim… Eles são muito amigos. Eu falei: “Mas, Reinaldo, está tudo bem?”', mimetype='text/plain', start_char_idx=None, end_char_idx=None, text_template='{metadata_str}\\n\\n{content}', metadata_template='{key}: {value}', metadata_seperator='\\n'),\n",
       " TextNode(id_='d3686aff-5b42-4f4f-beca-a91b3acd1479', embedding=None, metadata={'title': 'milton', 'publishing_date': '18/03/2024', 'quadro': 'amor nas redes', 'hashtag': '#milton', 'parent_document_id': '85b840c3-44b1-4a8e-ba0c-7050a19116fc'}, excluded_embed_metadata_keys=[], excluded_llm_metadata_keys=[], relationships={}, text='O Reinaldo foi no casamento, o Milton, aos poucos, foi convencendo a Elaine de que ela devia melhorar o relacionamento com o pai do Fabiano, afinal, eles são pais de uma mesma pessoa, né? E aí, com o tempo, a Elaine foi ficando mais maleável com o Reinaldo e eles foram conversando mais… E hoje, gente, eles são amigos, assim, do Reinaldo ir lá pra casa do Milton e da Elaine pra jogar truco, assim… Eles são muito amigos. Eu falei: “Mas, Reinaldo, está tudo bem?” e ele falando: “Andréia, a gente já viajou junto… Imagina: eu, Milton, Elaine e Fabiano… E, assim, Milton é muitos legal”. [ risos] O Reinaldo falou: “Andréia, eu amo o Milton… Eu, assim, eu disfarço um pouco, porque, pô, é o padrasto do meu filho e tal, mas amo o Milton, [risos] o Milton é muito legal”.', mimetype='text/plain', start_char_idx=None, end_char_idx=None, text_template='{metadata_str}\\n\\n{content}', metadata_template='{key}: {value}', metadata_seperator='\\n'),\n",
       " TextNode(id_='639890fe-4b99-40c9-b242-8a249f323ed0', embedding=None, metadata={'title': 'milton', 'publishing_date': '18/03/2024', 'quadro': 'amor nas redes', 'hashtag': '#milton', 'parent_document_id': '85b840c3-44b1-4a8e-ba0c-7050a19116fc'}, excluded_embed_metadata_keys=[], excluded_llm_metadata_keys=[], relationships={}, text='Eu falei: “Mas, Reinaldo, está tudo bem?” e ele falando: “Andréia, a gente já viajou junto… Imagina: eu, Milton, Elaine e Fabiano… E, assim, Milton é muitos legal”. [ risos] O Reinaldo falou: “Andréia, eu amo o Milton… Eu, assim, eu disfarço um pouco, porque, pô, é o padrasto do meu filho e tal, mas amo o Milton, [risos] o Milton é muito legal”. E aí ele falou: “Eu fico pensando: “Ai, tomara que a Elaine não separe do Milton, por que como é que vai ser sem o Milton?” e o Milton tá ajudando realmente o Reinaldo a criar o Fabiano e isso está sendo bom também para a Elaine porque os dois ficam com o Fabiano, então ela tem um tempo pra ela também pra fazer as coisas dela.', mimetype='text/plain', start_char_idx=None, end_char_idx=None, text_template='{metadata_str}\\n\\n{content}', metadata_template='{key}: {value}', metadata_seperator='\\n'),\n",
       " TextNode(id_='6040b0de-b0c5-4034-8e7e-a77040bdf5db', embedding=None, metadata={'title': 'milton', 'publishing_date': '18/03/2024', 'quadro': 'amor nas redes', 'hashtag': '#milton', 'parent_document_id': '85b840c3-44b1-4a8e-ba0c-7050a19116fc'}, excluded_embed_metadata_keys=[], excluded_llm_metadata_keys=[], relationships={}, text='risos] O Reinaldo falou: “Andréia, eu amo o Milton… Eu, assim, eu disfarço um pouco, porque, pô, é o padrasto do meu filho e tal, mas amo o Milton, [risos] o Milton é muito legal”. E aí ele falou: “Eu fico pensando: “Ai, tomara que a Elaine não separe do Milton, por que como é que vai ser sem o Milton?” e o Milton tá ajudando realmente o Reinaldo a criar o Fabiano e isso está sendo bom também para a Elaine porque os dois ficam com o Fabiano, então ela tem um tempo pra ela também pra fazer as coisas dela. Ela já viajou com as amigas, e aí o Milton e o Reinaldo que revezavam ali nos cuidados do Fabiano, quem leva na escola, quem busca, quem faz lição… Então, assim, eu amei essa história, porque dá pra ver que dá sim pra a gente manter uma relação bacana e civilizada com ex e com os novos namorados, namoradas, dos nossos ex, ainda mais quando você tem um filho envolvido, porque um filho é pra sempre, né? E aí agora o Reinaldo tá namorando e também a namorada do Reinaldo já ama Milton. —', mimetype='text/plain', start_char_idx=None, end_char_idx=None, text_template='{metadata_str}\\n\\n{content}', metadata_template='{key}: {value}', metadata_seperator='\\n'),\n",
       " TextNode(id_='bb4446a0-118f-41c6-8f7d-dc84f58fd07e', embedding=None, metadata={'title': 'milton', 'publishing_date': '18/03/2024', 'quadro': 'amor nas redes', 'hashtag': '#milton', 'parent_document_id': '85b840c3-44b1-4a8e-ba0c-7050a19116fc'}, excluded_embed_metadata_keys=[], excluded_llm_metadata_keys=[], relationships={}, text='e o Milton tá ajudando realmente o Reinaldo a criar o Fabiano e isso está sendo bom também para a Elaine porque os dois ficam com o Fabiano, então ela tem um tempo pra ela também pra fazer as coisas dela. Ela já viajou com as amigas, e aí o Milton e o Reinaldo que revezavam ali nos cuidados do Fabiano, quem leva na escola, quem busca, quem faz lição… Então, assim, eu amei essa história, porque dá pra ver que dá sim pra a gente manter uma relação bacana e civilizada com ex e com os novos namorados, namoradas, dos nossos ex, ainda mais quando você tem um filho envolvido, porque um filho é pra sempre, né? E aí agora o Reinaldo tá namorando e também a namorada do Reinaldo já ama Milton. — Não tem quem não ame Milton, [risos] até eu amo Milton já. [ risos] Todo mundo ama Milton. —', mimetype='text/plain', start_char_idx=None, end_char_idx=None, text_template='{metadata_str}\\n\\n{content}', metadata_template='{key}: {value}', metadata_seperator='\\n'),\n",
       " TextNode(id_='a6b210d2-4f23-4372-94ad-fa158d2a6747', embedding=None, metadata={'title': 'milton', 'publishing_date': '18/03/2024', 'quadro': 'amor nas redes', 'hashtag': '#milton', 'parent_document_id': '85b840c3-44b1-4a8e-ba0c-7050a19116fc'}, excluded_embed_metadata_keys=[], excluded_llm_metadata_keys=[], relationships={}, text='E aí agora o Reinaldo tá namorando e também a namorada do Reinaldo já ama Milton. — Não tem quem não ame Milton, [risos] até eu amo Milton já. [ risos] Todo mundo ama Milton. — E aí, assim, a coisa vai crescendo e o Reinaldo falou: “Andréia, se daqui um ou dois anos eu casar, pô, será que é muito chato chamar o Milton para ser o meu padrinho?” [ risos]\\n\\n\\n\\n\\nFalei pro Reinaldo: “Você não amigos, não? [', mimetype='text/plain', start_char_idx=None, end_char_idx=None, text_template='{metadata_str}\\n\\n{content}', metadata_template='{key}: {value}', metadata_seperator='\\n'),\n",
       " TextNode(id_='5f5228b1-c62d-4a25-85d5-8eb4a220f46d', embedding=None, metadata={'title': 'milton', 'publishing_date': '18/03/2024', 'quadro': 'amor nas redes', 'hashtag': '#milton', 'parent_document_id': '85b840c3-44b1-4a8e-ba0c-7050a19116fc'}, excluded_embed_metadata_keys=[], excluded_llm_metadata_keys=[], relationships={}, text='risos] Todo mundo ama Milton. — E aí, assim, a coisa vai crescendo e o Reinaldo falou: “Andréia, se daqui um ou dois anos eu casar, pô, será que é muito chato chamar o Milton para ser o meu padrinho?” [ risos]\\n\\n\\n\\n\\nFalei pro Reinaldo: “Você não amigos, não? [ risos]” e ele falou: “Mas o Milton é o Milton, né?” e aí do cara que odiava o Milton, agora ele ama o Milton.', mimetype='text/plain', start_char_idx=None, end_char_idx=None, text_template='{metadata_str}\\n\\n{content}', metadata_template='{key}: {value}', metadata_seperator='\\n'),\n",
       " TextNode(id_='ac587ecd-419f-4e88-b38a-b9d60554cb2c', embedding=None, metadata={'title': 'milton', 'publishing_date': '18/03/2024', 'quadro': 'amor nas redes', 'hashtag': '#milton', 'parent_document_id': '85b840c3-44b1-4a8e-ba0c-7050a19116fc'}, excluded_embed_metadata_keys=[], excluded_llm_metadata_keys=[], relationships={}, text='risos]\\n\\n\\n\\n\\nFalei pro Reinaldo: “Você não amigos, não? [ risos]” e ele falou: “Mas o Milton é o Milton, né?” e aí do cara que odiava o Milton, agora ele ama o Milton. Vocês sabem que eu gosto muito de trazer aqui no Amor nas Redes histórias familiares, e aí eu queria deixar essa história aqui de pais, porque agora o Fabiano tem dois pais, né? Eles estão cuidando do Fabiano e eu acho que é isso, assim… Pra você cuidar de uma criança precisa realmente de uma comunidade e que as pessoas estejam em harmonia para aquela criança crescer bem.', mimetype='text/plain', start_char_idx=None, end_char_idx=None, text_template='{metadata_str}\\n\\n{content}', metadata_template='{key}: {value}', metadata_seperator='\\n'),\n",
       " TextNode(id_='c62271ec-aa08-42c9-ba9f-6ee2039732bf', embedding=None, metadata={'title': 'milton', 'publishing_date': '18/03/2024', 'quadro': 'amor nas redes', 'hashtag': '#milton', 'parent_document_id': '85b840c3-44b1-4a8e-ba0c-7050a19116fc'}, excluded_embed_metadata_keys=[], excluded_llm_metadata_keys=[], relationships={}, text='e aí do cara que odiava o Milton, agora ele ama o Milton. Vocês sabem que eu gosto muito de trazer aqui no Amor nas Redes histórias familiares, e aí eu queria deixar essa história aqui de pais, porque agora o Fabiano tem dois pais, né? Eles estão cuidando do Fabiano e eu acho que é isso, assim… Pra você cuidar de uma criança precisa realmente de uma comunidade e que as pessoas estejam em harmonia para aquela criança crescer bem. O Fabiano é isso, ele tá crescendo felizinho. — Amo… —\\n\\n\\n\\n[trilha]\\n\\n\\n\\nAssinante 1: Oi, gente… Meu nome é Letícia, falo de Belém.', mimetype='text/plain', start_char_idx=None, end_char_idx=None, text_template='{metadata_str}\\n\\n{content}', metadata_template='{key}: {value}', metadata_seperator='\\n'),\n",
       " TextNode(id_='07b84df8-027e-4451-b72d-4f68b48a926b', embedding=None, metadata={'title': 'milton', 'publishing_date': '18/03/2024', 'quadro': 'amor nas redes', 'hashtag': '#milton', 'parent_document_id': '85b840c3-44b1-4a8e-ba0c-7050a19116fc'}, excluded_embed_metadata_keys=[], excluded_llm_metadata_keys=[], relationships={}, text='Eles estão cuidando do Fabiano e eu acho que é isso, assim… Pra você cuidar de uma criança precisa realmente de uma comunidade e que as pessoas estejam em harmonia para aquela criança crescer bem. O Fabiano é isso, ele tá crescendo felizinho. — Amo… —\\n\\n\\n\\n[trilha]\\n\\n\\n\\nAssinante 1: Oi, gente… Meu nome é Letícia, falo de Belém. Que história, Reinaldo? [ voz embargada] Não dá para ouvir, né?', mimetype='text/plain', start_char_idx=None, end_char_idx=None, text_template='{metadata_str}\\n\\n{content}', metadata_template='{key}: {value}', metadata_seperator='\\n'),\n",
       " TextNode(id_='e944be79-f1f5-4bff-8f8d-c3fdf1fd6fa6', embedding=None, metadata={'title': 'milton', 'publishing_date': '18/03/2024', 'quadro': 'amor nas redes', 'hashtag': '#milton', 'parent_document_id': '85b840c3-44b1-4a8e-ba0c-7050a19116fc'}, excluded_embed_metadata_keys=[], excluded_llm_metadata_keys=[], relationships={}, text='Amo… —\\n\\n\\n\\n[trilha]\\n\\n\\n\\nAssinante 1: Oi, gente… Meu nome é Letícia, falo de Belém. Que história, Reinaldo? [ voz embargada] Não dá para ouvir, né? Pela voz fanha… Me fez rir, me fez chorar… Eu que não tive pai presente na vida, fiquei muito feliz que você conseguiu abrir teu coração, conseguiu dar uma chance para o Milton e agora o Fabiano está sendo amado e cuidado por dois pais. Nossa, que história… Muito obrigada por dividir tua história com todos nós e mostrar que existe amor e quando a gente abre o coração, pode dar certo.', mimetype='text/plain', start_char_idx=None, end_char_idx=None, text_template='{metadata_str}\\n\\n{content}', metadata_template='{key}: {value}', metadata_seperator='\\n'),\n",
       " TextNode(id_='0af66728-7601-4b67-a9e7-2e2f68cb363c', embedding=None, metadata={'title': 'milton', 'publishing_date': '18/03/2024', 'quadro': 'amor nas redes', 'hashtag': '#milton', 'parent_document_id': '85b840c3-44b1-4a8e-ba0c-7050a19116fc'}, excluded_embed_metadata_keys=[], excluded_llm_metadata_keys=[], relationships={}, text='voz embargada] Não dá para ouvir, né? Pela voz fanha… Me fez rir, me fez chorar… Eu que não tive pai presente na vida, fiquei muito feliz que você conseguiu abrir teu coração, conseguiu dar uma chance para o Milton e agora o Fabiano está sendo amado e cuidado por dois pais. Nossa, que história… Muito obrigada por dividir tua história com todos nós e mostrar que existe amor e quando a gente abre o coração, pode dar certo. Um beijo para sua família. Muito obrigada.', mimetype='text/plain', start_char_idx=None, end_char_idx=None, text_template='{metadata_str}\\n\\n{content}', metadata_template='{key}: {value}', metadata_seperator='\\n'),\n",
       " TextNode(id_='fc8b8388-8a61-4f82-b864-2606eaef69d3', embedding=None, metadata={'title': 'milton', 'publishing_date': '18/03/2024', 'quadro': 'amor nas redes', 'hashtag': '#milton', 'parent_document_id': '85b840c3-44b1-4a8e-ba0c-7050a19116fc'}, excluded_embed_metadata_keys=[], excluded_llm_metadata_keys=[], relationships={}, text='Nossa, que história… Muito obrigada por dividir tua história com todos nós e mostrar que existe amor e quando a gente abre o coração, pode dar certo. Um beijo para sua família. Muito obrigada. Assinante 2: Oi, Déia, oi, Não Inviabilizers, aqui é a Lena de São Paulo. Bom, já amo o Milton, sou fã aqui dele.', mimetype='text/plain', start_char_idx=None, end_char_idx=None, text_template='{metadata_str}\\n\\n{content}', metadata_template='{key}: {value}', metadata_seperator='\\n'),\n",
       " TextNode(id_='fb0e9ed1-8711-48ec-bb6a-0eb4074f8e93', embedding=None, metadata={'title': 'milton', 'publishing_date': '18/03/2024', 'quadro': 'amor nas redes', 'hashtag': '#milton', 'parent_document_id': '85b840c3-44b1-4a8e-ba0c-7050a19116fc'}, excluded_embed_metadata_keys=[], excluded_llm_metadata_keys=[], relationships={}, text='Muito obrigada. Assinante 2: Oi, Déia, oi, Não Inviabilizers, aqui é a Lena de São Paulo. Bom, já amo o Milton, sou fã aqui dele. Amei que o Fabiano agora tem dois pais, que agora ele tem uma família enorme e eu fiquei muito contente que Reinaldo se abriu para esse novo amor que é esse amor entre os amigos, uma nova amizade. Isso eu acho muito fantástico, que ele também conseguiu reconstruir a amizade com a mãe do Fabiano.', mimetype='text/plain', start_char_idx=None, end_char_idx=None, text_template='{metadata_str}\\n\\n{content}', metadata_template='{key}: {value}', metadata_seperator='\\n'),\n",
       " TextNode(id_='84437da5-7081-4b32-9054-f9958b1d8190', embedding=None, metadata={'title': 'milton', 'publishing_date': '18/03/2024', 'quadro': 'amor nas redes', 'hashtag': '#milton', 'parent_document_id': '85b840c3-44b1-4a8e-ba0c-7050a19116fc'}, excluded_embed_metadata_keys=[], excluded_llm_metadata_keys=[], relationships={}, text='Bom, já amo o Milton, sou fã aqui dele. Amei que o Fabiano agora tem dois pais, que agora ele tem uma família enorme e eu fiquei muito contente que Reinaldo se abriu para esse novo amor que é esse amor entre os amigos, uma nova amizade. Isso eu acho muito fantástico, que ele também conseguiu reconstruir a amizade com a mãe do Fabiano. Isso é muito legal… Torço muito para essa família crescer cada vez mais e que continue esse amorzinho aí. Um beijão, um beijão para todos.', mimetype='text/plain', start_char_idx=None, end_char_idx=None, text_template='{metadata_str}\\n\\n{content}', metadata_template='{key}: {value}', metadata_seperator='\\n'),\n",
       " TextNode(id_='789788e7-c424-4279-8767-b2b7ad6c6cc7', embedding=None, metadata={'title': 'milton', 'publishing_date': '18/03/2024', 'quadro': 'amor nas redes', 'hashtag': '#milton', 'parent_document_id': '85b840c3-44b1-4a8e-ba0c-7050a19116fc'}, excluded_embed_metadata_keys=[], excluded_llm_metadata_keys=[], relationships={}, text='Isso eu acho muito fantástico, que ele também conseguiu reconstruir a amizade com a mãe do Fabiano. Isso é muito legal… Torço muito para essa família crescer cada vez mais e que continue esse amorzinho aí. Um beijão, um beijão para todos. [trilha] \\n\\n\\n\\nDéia Freitas: Então, queria deixar aqui o meu beijo para família, Elaine, Fabiano, Reinaldo e, um beijo especial, um abraço apertado para o Milton. — Porque sim, já amo o Milton. —', mimetype='text/plain', start_char_idx=None, end_char_idx=None, text_template='{metadata_str}\\n\\n{content}', metadata_template='{key}: {value}', metadata_seperator='\\n'),\n",
       " TextNode(id_='c1a6591c-82a6-4922-b989-52cadc1f51f1', embedding=None, metadata={'title': 'milton', 'publishing_date': '18/03/2024', 'quadro': 'amor nas redes', 'hashtag': '#milton', 'parent_document_id': '85b840c3-44b1-4a8e-ba0c-7050a19116fc'}, excluded_embed_metadata_keys=[], excluded_llm_metadata_keys=[], relationships={}, text='Um beijão, um beijão para todos. [trilha] \\n\\n\\n\\nDéia Freitas: Então, queria deixar aqui o meu beijo para família, Elaine, Fabiano, Reinaldo e, um beijo especial, um abraço apertado para o Milton. — Porque sim, já amo o Milton. — Um beijo, gente, comentem lá no nosso grupo do Telegram. Sejam gentis com o Reinaldo e [risos] mandem aí beijos para o Milton, [risos] para a Elaine, pro Fabiano e eu volto em breve.', mimetype='text/plain', start_char_idx=None, end_char_idx=None, text_template='{metadata_str}\\n\\n{content}', metadata_template='{key}: {value}', metadata_seperator='\\n'),\n",
       " TextNode(id_='2c724ae5-a2a1-436d-99c6-633e5351455f', embedding=None, metadata={'title': 'milton', 'publishing_date': '18/03/2024', 'quadro': 'amor nas redes', 'hashtag': '#milton', 'parent_document_id': '85b840c3-44b1-4a8e-ba0c-7050a19116fc'}, excluded_embed_metadata_keys=[], excluded_llm_metadata_keys=[], relationships={}, text='Porque sim, já amo o Milton. — Um beijo, gente, comentem lá no nosso grupo do Telegram. Sejam gentis com o Reinaldo e [risos] mandem aí beijos para o Milton, [risos] para a Elaine, pro Fabiano e eu volto em breve. [vinheta] Quer sua história contada aqui? Escreva para naoinviabilize@gmail.com.', mimetype='text/plain', start_char_idx=None, end_char_idx=None, text_template='{metadata_str}\\n\\n{content}', metadata_template='{key}: {value}', metadata_seperator='\\n'),\n",
       " TextNode(id_='f30de38b-3595-4983-83b7-7e7dfdc0b118', embedding=None, metadata={'title': 'milton', 'publishing_date': '18/03/2024', 'quadro': 'amor nas redes', 'hashtag': '#milton', 'parent_document_id': '85b840c3-44b1-4a8e-ba0c-7050a19116fc'}, excluded_embed_metadata_keys=[], excluded_llm_metadata_keys=[], relationships={}, text='Sejam gentis com o Reinaldo e [risos] mandem aí beijos para o Milton, [risos] para a Elaine, pro Fabiano e eu volto em breve. [vinheta] Quer sua história contada aqui? Escreva para naoinviabilize@gmail.com. Amor nas Redes é um quadro do canal Não Inviabilize. [ vinheta]', mimetype='text/plain', start_char_idx=None, end_char_idx=None, text_template='{metadata_str}\\n\\n{content}', metadata_template='{key}: {value}', metadata_seperator='\\n'),\n",
       " TextNode(id_='ccfaa4e7-d33b-4f8f-90c3-dada4dd22cf3', embedding=None, metadata={'title': 'milton', 'publishing_date': '18/03/2024', 'quadro': 'amor nas redes', 'hashtag': '#milton', 'parent_document_id': '85b840c3-44b1-4a8e-ba0c-7050a19116fc'}, excluded_embed_metadata_keys=[], excluded_llm_metadata_keys=[], relationships={}, text='Escreva para naoinviabilize@gmail.com. Amor nas Redes é um quadro do canal Não Inviabilize. [ vinheta]', mimetype='text/plain', start_char_idx=None, end_char_idx=None, text_template='{metadata_str}\\n\\n{content}', metadata_template='{key}: {value}', metadata_seperator='\\n'),\n",
       " TextNode(id_='aeff1cc9-1117-4fd5-9956-8217a16de299', embedding=None, metadata={'title': 'milton', 'publishing_date': '18/03/2024', 'quadro': 'amor nas redes', 'hashtag': '#milton', 'parent_document_id': '85b840c3-44b1-4a8e-ba0c-7050a19116fc'}, excluded_embed_metadata_keys=[], excluded_llm_metadata_keys=[], relationships={}, text='vinheta]', mimetype='text/plain', start_char_idx=None, end_char_idx=None, text_template='{metadata_str}\\n\\n{content}', metadata_template='{key}: {value}', metadata_seperator='\\n')]"
      ]
     },
     "execution_count": 22,
     "metadata": {},
     "output_type": "execute_result"
    }
   ],
   "source": [
    "transcription_nodes = get_transcriptions_nodes(transcription_documents)\n",
    "\n",
    "transcription_nodes['milton']"
   ]
  },
  {
   "cell_type": "code",
   "execution_count": 15,
   "metadata": {},
   "outputs": [],
   "source": [
    "class MultiIndexRetriever:\n",
    "    def __init__(self, indexes_nodes: Dict[str, List[TextNode]], top_k, bm25_top_k, reranker_model) -> None:\n",
    "        self.indexes: Dict[str, List[TextNode]] = indexes_nodes\n",
    "        \n",
    "        self.bm25_retrievers: Dict[str, BM25Retriever] = dict()\n",
    "        for index, nodes in indexes_nodes.items():\n",
    "            self.bm25_retrievers[index] = BM25Retriever.from_defaults(nodes=nodes, similarity_top_k=bm25_top_k)\n",
    "\n",
    "        self.reranker = SentenceTransformerRerank(top_n=top_k, model=reranker_model)\n",
    "        \n",
    "\n",
    "    def retrieve(self, index_name: str, query: str) -> List[str]:\n",
    "        if index_name not in self.indexes:\n",
    "            raise ValueError(f\"Index {index_name} not found\")\n",
    "        \n",
    "        retriever = self.bm25_retrievers[index_name]\n",
    "\n",
    "        retrieved_nodes = retriever.retrieve(query)\n",
    "        reranked_nodes = self.reranker.postprocess_nodes(\n",
    "            retrieved_nodes,\n",
    "            query_bundle=QueryBundle(query),\n",
    "        )\n",
    "\n",
    "        context_chunks = [ node.get_text() for node in reranked_nodes ]\n",
    "\n",
    "        return context_chunks"
   ]
  },
  {
   "cell_type": "code",
   "execution_count": 12,
   "metadata": {},
   "outputs": [],
   "source": [
    "class IndexDetector:\n",
    "    def __init__(self, llm_model: str, index_names: List[str], GROQ_API_KEY: str = os.environ['GROQ_API_KEY']):\n",
    "        self._base_prompt = \\\n",
    "            \"Given the following Portuguese query, regarding an episode of a podcast, please tell me the title of the episode. \" \\\n",
    "            \"The query starts now: '{query}'.\" \\\n",
    "            \"You MUST answer with only the title of the episode.\"\n",
    "        \n",
    "        self.llm = Groq(model=llm_model, api_key=GROQ_API_KEY)\n",
    "        self.llm_model_name = llm_model\n",
    "        self.index_names = index_names\n",
    "\n",
    "    def detect_index(self, query: str) -> str:\n",
    "        prompt = self._base_prompt.format(query=query)\n",
    "        raw_llm_guess = self.llm.complete(prompt).text\n",
    "        llm_guess = raw_llm_guess.strip().lower()\n",
    "\n",
    "        if llm_guess not in self.index_names:\n",
    "            index_name = llm_guess\n",
    "        else:\n",
    "            index_name, _ = process.extractOne(llm_guess, self.index_names)\n",
    "            \n",
    "        return index_name"
   ]
  },
  {
   "cell_type": "code",
   "execution_count": 41,
   "metadata": {},
   "outputs": [],
   "source": [
    "class RAGGenerator:\n",
    "    def __init__(self, llm_model, GROQ_API_KEY=os.environ['GROQ_API_KEY']):\n",
    "        self._base_prompt = \\\n",
    "            \"Consider the following context passages of a podcast episode and answer the given question.\" \\\n",
    "            \"You MUST answer the question only in Portuguese.\" \\\n",
    "            \"\\n\\n\" \\\n",
    "            \"{context_passages}\" \\\n",
    "            \"\\n\\n\" \\\n",
    "            \"If there is not enough information in the context passages, answer \\\"Não há informação suficiente no episódio.\\\".\" \\\n",
    "            \"\\n\\n\" \\\n",
    "            \"Question: {query}\"\n",
    "        \n",
    "        self.llm = Groq(model=llm_model, api_key=GROQ_API_KEY)\n",
    "        self.llm_model_name = llm_model\n",
    "\n",
    "    def generate_answer(self, query: str, contexts: List[str]) -> str:\n",
    "        context_passages = \"\\n\\n\".join([ f\"Context {i}: {context}\" for i, context in enumerate(contexts, 1) ])\n",
    "        prompt = self._base_prompt.format(query=query, context_passages=context_passages)\n",
    "        answer = self.llm.complete(prompt).text.strip()\n",
    "        return answer"
   ]
  },
  {
   "cell_type": "code",
   "execution_count": 18,
   "metadata": {},
   "outputs": [],
   "source": [
    "@dataclass\n",
    "class RAGResponse:\n",
    "    answer: str\n",
    "    contexts: List[str]\n",
    "\n",
    "class RAGPipeline:\n",
    "    def __init__(\n",
    "        self,\n",
    "        retriever: MultiIndexRetriever, \n",
    "        index_detector: IndexDetector,\n",
    "        generator: RAGGenerator,\n",
    "    ) -> None:\n",
    "        self.index_detector: IndexDetector = index_detector\n",
    "        self.retriever: MultiIndexRetriever = retriever\n",
    "        self.generator: RAGGenerator = generator\n",
    "\n",
    "    def __call__(self, query: str) -> RAGResponse:\n",
    "        index_name = self.index_detector.detect_index(query)\n",
    "        context_chunks = self.retriever.retrieve(index_name, query)\n",
    "        answer = self.generator.generate(query, context_chunks)\n",
    "        return RAGResponse(answer, context_chunks)"
   ]
  },
  {
   "cell_type": "code",
   "execution_count": 36,
   "metadata": {},
   "outputs": [
    {
     "name": "stdout",
     "output_type": "stream",
     "text": [
      "HTTP Request: POST https://api.groq.com/openai/v1/chat/completions \"HTTP/1.1 200 OK\"\n"
     ]
    },
    {
     "data": {
      "text/plain": [
       "'mário'"
      ]
     },
     "execution_count": 36,
     "metadata": {},
     "output_type": "execute_result"
    }
   ],
   "source": [
    "index_detector = IndexDetector(llm_model=LLM_MODEL, index_names=list(transcription_nodes.keys()))\n",
    "index_name = index_detector.detect_index('No episódio \\'mário\\', quem foi diagnosticado com câncer de bexiga na história?')\n",
    "index_name"
   ]
  },
  {
   "cell_type": "code",
   "execution_count": 44,
   "metadata": {},
   "outputs": [
    {
     "name": "stdout",
     "output_type": "stream",
     "text": [
      "HTTP Request: POST https://api.groq.com/openai/v1/chat/completions \"HTTP/1.1 200 OK\"\n"
     ]
    },
    {
     "data": {
      "text/plain": [
       "'No episódio, Bia é a Bia Suzuki, que tem 30 anos e mora em São José do Rio Preto, interior de São Paulo, e recebeu o diagnóstico de câncer de intestino aos 25 anos.'"
      ]
     },
     "execution_count": 44,
     "metadata": {},
     "output_type": "execute_result"
    }
   ],
   "source": [
    "example_contexts = [\n",
    "    \"Eu sou Bia Suzuki, tenho 30 anos, moro em São José do Rio Preto, interior de São Paulo... eu recebi o diagnóstico de câncer de intestino aos 25 anos...\",\n",
    "    \"O câncer colorretal é a terceira neoplasia mais frequente e a segunda de maior mortalidade no mundo...\",\n",
    "    \"Eu achei que não é impossível viver bem com bolsinha e eu sou uma prova disso.\"\n",
    "]\n",
    "example_question = \"No episódio 'bia', quem é a Bia e o que aconteceu com ela?\"\n",
    "\n",
    "rag_generator = RAGGenerator(llm_model=LLM_MODEL)\n",
    "rag_generator.generate_answer(example_question, example_contexts)"
   ]
  },
  {
   "cell_type": "code",
   "execution_count": 35,
   "metadata": {},
   "outputs": [
    {
     "ename": "NameError",
     "evalue": "name 'MultiIndexRetriever' is not defined",
     "output_type": "error",
     "traceback": [
      "\u001b[0;31m---------------------------------------------------------------------------\u001b[0m",
      "\u001b[0;31mNameError\u001b[0m                                 Traceback (most recent call last)",
      "Cell \u001b[0;32mIn[35], line 1\u001b[0m\n\u001b[0;32m----> 1\u001b[0m multi_index_retriever \u001b[38;5;241m=\u001b[39m \u001b[43mMultiIndexRetriever\u001b[49m(\n\u001b[1;32m      2\u001b[0m     indexes_nodes\u001b[38;5;241m=\u001b[39mtranscription_nodes,\n\u001b[1;32m      3\u001b[0m     top_k\u001b[38;5;241m=\u001b[39mTOP_K,\n\u001b[1;32m      4\u001b[0m     bm25_top_k\u001b[38;5;241m=\u001b[39mBM25_TOP_K,\n\u001b[1;32m      5\u001b[0m     reranker_model\u001b[38;5;241m=\u001b[39mRERANKER_MODEL\n\u001b[1;32m      6\u001b[0m )\n\u001b[1;32m      7\u001b[0m index_detector \u001b[38;5;241m=\u001b[39m IndexDetector(llm_model\u001b[38;5;241m=\u001b[39mLLM_MODEL, index_names\u001b[38;5;241m=\u001b[39m\u001b[38;5;28mlist\u001b[39m(transcription_nodes\u001b[38;5;241m.\u001b[39mkeys()))\n\u001b[1;32m      8\u001b[0m rag_generator \u001b[38;5;241m=\u001b[39m RAGGenerator(llm_model\u001b[38;5;241m=\u001b[39mLLM_MODEL)\n",
      "\u001b[0;31mNameError\u001b[0m: name 'MultiIndexRetriever' is not defined"
     ]
    }
   ],
   "source": [
    "multi_index_retriever = MultiIndexRetriever(\n",
    "    indexes_nodes=transcription_nodes,\n",
    "    top_k=TOP_K,\n",
    "    bm25_top_k=BM25_TOP_K,\n",
    "    reranker_model=RERANKER_MODEL\n",
    ")\n",
    "index_detector = IndexDetector(llm_model=LLM_MODEL, index_names=list(transcription_nodes.keys()))\n",
    "rag_generator = RAGGenerator(llm_model=LLM_MODEL)\n",
    "\n",
    "rag_pipeline = RAGPipeline(\n",
    "    retriever=multi_index_retriever,\n",
    "    index_detector=index_detector,\n",
    "    generator=rag_generator,\n",
    ")"
   ]
  }
 ],
 "metadata": {
  "kernelspec": {
   "display_name": "naoinviabilize",
   "language": "python",
   "name": "python3"
  },
  "language_info": {
   "codemirror_mode": {
    "name": "ipython",
    "version": 3
   },
   "file_extension": ".py",
   "mimetype": "text/x-python",
   "name": "python",
   "nbconvert_exporter": "python",
   "pygments_lexer": "ipython3",
   "version": "3.12.4"
  }
 },
 "nbformat": 4,
 "nbformat_minor": 2
}
