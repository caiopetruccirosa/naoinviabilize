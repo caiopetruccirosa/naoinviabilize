{
  "cells": [
    {
      "cell_type": "markdown",
      "id": "5bf1de44-4047-46cf-a04c-dbf910d9e179",
      "metadata": {
        "id": "5bf1de44-4047-46cf-a04c-dbf910d9e179"
      },
      "source": [
        "# BM25 Retriever\n",
        "In this guide, we define a bm25 retriever that search documents using bm25 method.\n",
        "\n",
        "This notebook is very similar to the RouterQueryEngine notebook."
      ]
    },
    {
      "cell_type": "markdown",
      "id": "6e73fead-ec2c-4346-bd08-e183c13c7e29",
      "metadata": {
        "id": "6e73fead-ec2c-4346-bd08-e183c13c7e29"
      },
      "source": [
        "## Setup"
      ]
    },
    {
      "cell_type": "markdown",
      "id": "9a2630bc",
      "metadata": {
        "id": "9a2630bc"
      },
      "source": [
        "If you're opening this Notebook on colab, you will probably need to install LlamaIndex 🦙."
      ]
    },
    {
      "cell_type": "code",
      "execution_count": 5,
      "id": "c628448c-573c-4eeb-a7e1-707fe8cc575c",
      "metadata": {
        "id": "c628448c-573c-4eeb-a7e1-707fe8cc575c"
      },
      "outputs": [],
      "source": [
        "import os\n",
        "import logging\n",
        "import sys\n",
        "\n",
        "# NOTE: This is ONLY necessary in jupyter notebook.\n",
        "# Details: Jupyter runs an event-loop behind the scenes.\n",
        "#          This results in nested event-loops when we start an event-loop to make async queries.\n",
        "#          This is normally not allowed, we use nest_asyncio to allow it for convenience.\n",
        "import nest_asyncio\n",
        "\n",
        "from llama_index.core import (\n",
        "    SimpleDirectoryReader,\n",
        "    StorageContext,\n",
        "    VectorStoreIndex,\n",
        "    Settings,\n",
        "    Document,\n",
        "    QueryBundle,\n",
        ")\n",
        "from llama_index.core.node_parser import SentenceSplitter\n",
        "from llama_index.core.response.notebook_utils import display_source_node\n",
        "from llama_index.core.query_engine import RetrieverQueryEngine\n",
        "from llama_index.core.schema import NodeWithScore\n",
        "from llama_index.core.postprocessor import SentenceTransformerRerank\n",
        "from llama_index.core.tools import RetrieverTool\n",
        "\n",
        "from llama_index.core.retrievers import (\n",
        "    BaseRetriever,\n",
        "    RouterRetriever,\n",
        "    VectorIndexRetriever,\n",
        ")\n",
        "from llama_index.retrievers.bm25 import BM25Retriever\n",
        "\n",
        "from llama_index.llms.groq import Groq\n",
        "from llama_index.embeddings.huggingface import HuggingFaceEmbedding"
      ]
    },
    {
      "cell_type": "code",
      "execution_count": null,
      "id": "269ab7d0",
      "metadata": {},
      "outputs": [],
      "source": [
        "nest_asyncio.apply()\n",
        "\n",
        "os.environ[\"GROQ_API_KEY\"] = \"api key\"\n",
        "\n",
        "logging.basicConfig(stream=sys.stdout, level=logging.INFO)\n",
        "logging.getLogger().handlers = []\n",
        "logging.getLogger().addHandler(logging.StreamHandler(stream=sys.stdout))"
      ]
    },
    {
      "cell_type": "markdown",
      "id": "8d87b60f",
      "metadata": {
        "id": "8d87b60f"
      },
      "source": [
        "## Download Data"
      ]
    },
    {
      "cell_type": "code",
      "execution_count": 6,
      "id": "4c9456c2",
      "metadata": {
        "colab": {
          "base_uri": "https://localhost:8080/"
        },
        "id": "4c9456c2",
        "outputId": "1b1b1747-e618-4139-cb0b-533239724e20"
      },
      "outputs": [
        {
          "name": "stdout",
          "output_type": "stream",
          "text": [
            "--2024-06-24 05:45:19--  https://raw.githubusercontent.com/run-llama/llama_index/main/docs/docs/examples/data/paul_graham/paul_graham_essay.txt\n",
            "Resolving raw.githubusercontent.com (raw.githubusercontent.com)... 185.199.108.133, 185.199.111.133, 185.199.110.133, ...\n",
            "Connecting to raw.githubusercontent.com (raw.githubusercontent.com)|185.199.108.133|:443... connected.\n",
            "HTTP request sent, awaiting response... 200 OK\n",
            "Length: 75042 (73K) [text/plain]\n",
            "Saving to: ‘data/paul_graham/paul_graham_essay.txt’\n",
            "\n",
            "\r          data/paul   0%[                    ]       0  --.-KB/s               \rdata/paul_graham/pa 100%[===================>]  73.28K  --.-KB/s    in 0.08s   \n",
            "\n",
            "2024-06-24 05:45:20 (926 KB/s) - ‘data/paul_graham/paul_graham_essay.txt’ saved [75042/75042]\n",
            "\n"
          ]
        }
      ],
      "source": [
        "!mkdir -p 'data/paul_graham/'\n",
        "!wget 'https://raw.githubusercontent.com/run-llama/llama_index/main/docs/docs/examples/data/paul_graham/paul_graham_essay.txt' -O 'data/paul_graham/paul_graham_essay.txt'"
      ]
    },
    {
      "cell_type": "markdown",
      "id": "787174ed-10ce-47d7-82fd-9ca7f891eea7",
      "metadata": {
        "id": "787174ed-10ce-47d7-82fd-9ca7f891eea7"
      },
      "source": [
        "## Load Data\n",
        "\n",
        "We first show how to convert a Document into a set of Nodes, and insert into a DocumentStore."
      ]
    },
    {
      "cell_type": "code",
      "execution_count": 7,
      "id": "1fc1b8ac-bf55-4d60-841c-61698663322f",
      "metadata": {
        "id": "1fc1b8ac-bf55-4d60-841c-61698663322f"
      },
      "outputs": [],
      "source": [
        "# load documents\n",
        "documents = SimpleDirectoryReader(\"./data/paul_graham\").load_data()"
      ]
    },
    {
      "cell_type": "code",
      "execution_count": 8,
      "id": "7081194a-ede7-478e-bff2-23e89e23ef16",
      "metadata": {
        "id": "7081194a-ede7-478e-bff2-23e89e23ef16"
      },
      "outputs": [],
      "source": [
        "# initialize LLM + node parser\n",
        "llm = Groq(model=\"llama3-70b-8192\", api_key=os.environ[\"GROQ_API_KEY\"])\n",
        "splitter = SentenceSplitter(chunk_size=1024)\n",
        "\n",
        "nodes = splitter.get_nodes_from_documents(documents)"
      ]
    },
    {
      "cell_type": "code",
      "execution_count": 9,
      "id": "8f61bca2-c3b4-4ef0-a8f1-367933aa6d05",
      "metadata": {
        "id": "8f61bca2-c3b4-4ef0-a8f1-367933aa6d05"
      },
      "outputs": [],
      "source": [
        "# initialize storage context (by default it's in-memory)\n",
        "storage_context = StorageContext.from_defaults()\n",
        "storage_context.docstore.add_documents(nodes)"
      ]
    },
    {
      "cell_type": "code",
      "execution_count": 10,
      "id": "k_2y2bQSsBf0",
      "metadata": {
        "colab": {
          "base_uri": "https://localhost:8080/"
        },
        "id": "k_2y2bQSsBf0",
        "outputId": "e1cf8623-1490-4853-a55b-4e3003de987f"
      },
      "outputs": [
        {
          "name": "stderr",
          "output_type": "stream",
          "text": [
            "/usr/local/lib/python3.10/dist-packages/huggingface_hub/utils/_token.py:89: UserWarning: \n",
            "The secret `HF_TOKEN` does not exist in your Colab secrets.\n",
            "To authenticate with the Hugging Face Hub, create a token in your settings tab (https://huggingface.co/settings/tokens), set it as secret in your Google Colab and restart your session.\n",
            "You will be able to reuse this secret in all of your notebooks.\n",
            "Please note that authentication is recommended but still optional to access public models or datasets.\n",
            "  warnings.warn(\n",
            "/usr/local/lib/python3.10/dist-packages/huggingface_hub/file_download.py:1132: FutureWarning: `resume_download` is deprecated and will be removed in version 1.0.0. Downloads always resume when possible. If you want to force a new download, use `force_download=True`.\n",
            "  warnings.warn(\n"
          ]
        }
      ],
      "source": [
        "embed_model = HuggingFaceEmbedding(model_name=\"sentence-transformers/distiluse-base-multilingual-cased-v1\")\n",
        "\n",
        "Settings.embed_model = embed_model"
      ]
    },
    {
      "cell_type": "code",
      "execution_count": 11,
      "id": "0d6162df-9da7-4aad-a2ca-eb318f67daec",
      "metadata": {
        "id": "0d6162df-9da7-4aad-a2ca-eb318f67daec"
      },
      "outputs": [],
      "source": [
        "index = VectorStoreIndex(\n",
        "    nodes=nodes,\n",
        "    storage_context=storage_context,\n",
        ")"
      ]
    },
    {
      "cell_type": "markdown",
      "id": "4fa4b18c-4f9b-4311-b1d9-9cbf24687e2c",
      "metadata": {
        "id": "4fa4b18c-4f9b-4311-b1d9-9cbf24687e2c"
      },
      "source": [
        "## BM25 Retriever\n",
        "\n",
        "We will search document with bm25 retriever."
      ]
    },
    {
      "cell_type": "code",
      "execution_count": 12,
      "id": "ee3f7c3b-69b4-48d5-bf22-ac51a4e3179f",
      "metadata": {
        "id": "ee3f7c3b-69b4-48d5-bf22-ac51a4e3179f"
      },
      "outputs": [],
      "source": [
        "# We can pass in the index, doctore, or list of nodes to create the retriever\n",
        "retriever = BM25Retriever.from_defaults(nodes=nodes, similarity_top_k=2)"
      ]
    },
    {
      "cell_type": "code",
      "execution_count": 13,
      "id": "7b8c4c12-1a30-425e-8312-04be050b2101",
      "metadata": {
        "colab": {
          "base_uri": "https://localhost:8080/",
          "height": 139
        },
        "id": "7b8c4c12-1a30-425e-8312-04be050b2101",
        "outputId": "0ad2cebd-8984-4c3c-b925-ad295c6b6722"
      },
      "outputs": [
        {
          "data": {
            "text/markdown": [
              "**Node ID:** ee67c258-72d3-4894-9402-312f5293e86a<br>**Similarity:** 0.9211411108145796<br>**Text:** Now that I could write essays again, I wrote a bunch about topics I'd had stacked up. I kept writ...<br>"
            ],
            "text/plain": [
              "<IPython.core.display.Markdown object>"
            ]
          },
          "metadata": {},
          "output_type": "display_data"
        },
        {
          "data": {
            "text/markdown": [
              "**Node ID:** 60b9a2d7-5076-4454-ba4b-973490d0c208<br>**Similarity:** 1.5473312198012366<br>**Text:** I couldn't have put this into words when I was 18. All I knew at the time was that I kept taking ...<br>"
            ],
            "text/plain": [
              "<IPython.core.display.Markdown object>"
            ]
          },
          "metadata": {},
          "output_type": "display_data"
        }
      ],
      "source": [
        "# will retrieve context from specific companies\n",
        "nodes = retriever.retrieve(\"What happened at Viaweb and Interleaf?\")\n",
        "for node in nodes:\n",
        "    display_source_node(node)"
      ]
    },
    {
      "cell_type": "code",
      "execution_count": 14,
      "id": "2749c34e-97c0-4bd5-8358-377a94b8b2d8",
      "metadata": {
        "colab": {
          "base_uri": "https://localhost:8080/",
          "height": 162
        },
        "id": "2749c34e-97c0-4bd5-8358-377a94b8b2d8",
        "outputId": "2199ef56-bf30-4256-db65-9c20440e7268"
      },
      "outputs": [
        {
          "data": {
            "text/markdown": [
              "**Node ID:** b8aeded2-6dff-4e25-84ec-cad2a4b1b208<br>**Similarity:** 0.0<br>**Text:** It was this that attracted me in college, though I didn't understand why at the time.\n",
              "\n",
              "McCarthy's...<br>"
            ],
            "text/plain": [
              "<IPython.core.display.Markdown object>"
            ]
          },
          "metadata": {},
          "output_type": "display_data"
        },
        {
          "data": {
            "text/markdown": [
              "**Node ID:** 4e6e8040-c43c-41e3-a23b-2a5daac621ed<br>**Similarity:** 0.0<br>**Text:** Painting students were supposed to express themselves, which to the more worldly ones meant to tr...<br>"
            ],
            "text/plain": [
              "<IPython.core.display.Markdown object>"
            ]
          },
          "metadata": {},
          "output_type": "display_data"
        }
      ],
      "source": [
        "nodes = retriever.retrieve(\"What did Paul Graham do after RISD?\")\n",
        "for node in nodes:\n",
        "    display_source_node(node)"
      ]
    },
    {
      "cell_type": "markdown",
      "id": "73460e63-3c7a-49f4-80d2-ea9f4033848e",
      "metadata": {
        "id": "73460e63-3c7a-49f4-80d2-ea9f4033848e"
      },
      "source": [
        "## Router Retriever with bm25 method\n",
        "\n",
        "Now we will combine bm25 retriever with vector index retriever."
      ]
    },
    {
      "cell_type": "code",
      "execution_count": 15,
      "id": "5ceedab8-c9e8-4ec9-be91-cba27482a7e2",
      "metadata": {
        "id": "5ceedab8-c9e8-4ec9-be91-cba27482a7e2"
      },
      "outputs": [],
      "source": [
        "vector_retriever = VectorIndexRetriever(index)\n",
        "bm25_retriever = BM25Retriever.from_defaults(nodes=nodes, similarity_top_k=2)\n",
        "\n",
        "retriever_tools = [\n",
        "    RetrieverTool.from_defaults(\n",
        "        retriever=vector_retriever,\n",
        "        description=\"Useful in most cases\",\n",
        "    ),\n",
        "    RetrieverTool.from_defaults(\n",
        "        retriever=bm25_retriever,\n",
        "        description=\"Useful if searching about specific information\",\n",
        "    ),\n",
        "]"
      ]
    },
    {
      "cell_type": "code",
      "execution_count": 16,
      "id": "dcb850f9-c8b4-4843-b66c-8cb2a977c0e8",
      "metadata": {
        "id": "dcb850f9-c8b4-4843-b66c-8cb2a977c0e8"
      },
      "outputs": [],
      "source": [
        "retriever = RouterRetriever.from_defaults(\n",
        "    retriever_tools=retriever_tools,\n",
        "    llm=llm,\n",
        "    select_multi=True,\n",
        ")"
      ]
    },
    {
      "cell_type": "code",
      "execution_count": 18,
      "id": "f3e29b3e-38e3-4f0b-a263-d267ed003cc6",
      "metadata": {
        "colab": {
          "base_uri": "https://localhost:8080/",
          "height": 391
        },
        "id": "f3e29b3e-38e3-4f0b-a263-d267ed003cc6",
        "outputId": "a2fd6e35-3f2d-493b-a847-5156dc160798"
      },
      "outputs": [
        {
          "ename": "ValidationError",
          "evalue": "1 validation error for NodeWithScore\nnode\n  Can't instantiate abstract class BaseNode with abstract methods get_content, get_metadata_str, get_type, hash, set_content (type=type_error)",
          "output_type": "error",
          "traceback": [
            "\u001b[0;31m---------------------------------------------------------------------------\u001b[0m",
            "\u001b[0;31mValidationError\u001b[0m                           Traceback (most recent call last)",
            "\u001b[0;32m<ipython-input-18-b6090b0806bd>\u001b[0m in \u001b[0;36m<cell line: 2>\u001b[0;34m()\u001b[0m\n\u001b[1;32m      1\u001b[0m \u001b[0;31m# will retrieve all context from the author's life\u001b[0m\u001b[0;34m\u001b[0m\u001b[0;34m\u001b[0m\u001b[0m\n\u001b[0;32m----> 2\u001b[0;31m a = retriever.retrieve(\n\u001b[0m\u001b[1;32m      3\u001b[0m     \u001b[0;34m\"Can you give me all the context regarding the author's life?\"\u001b[0m\u001b[0;34m\u001b[0m\u001b[0;34m\u001b[0m\u001b[0m\n\u001b[1;32m      4\u001b[0m )\n\u001b[1;32m      5\u001b[0m \u001b[0;32mfor\u001b[0m \u001b[0mb\u001b[0m \u001b[0;32min\u001b[0m \u001b[0ma\u001b[0m\u001b[0;34m:\u001b[0m\u001b[0;34m\u001b[0m\u001b[0;34m\u001b[0m\u001b[0m\n",
            "\u001b[0;32m/usr/local/lib/python3.10/dist-packages/llama_index/core/instrumentation/dispatcher.py\u001b[0m in \u001b[0;36mwrapper\u001b[0;34m(func, instance, args, kwargs)\u001b[0m\n\u001b[1;32m    228\u001b[0m             )\n\u001b[1;32m    229\u001b[0m             \u001b[0;32mtry\u001b[0m\u001b[0;34m:\u001b[0m\u001b[0;34m\u001b[0m\u001b[0;34m\u001b[0m\u001b[0m\n\u001b[0;32m--> 230\u001b[0;31m                 \u001b[0mresult\u001b[0m \u001b[0;34m=\u001b[0m \u001b[0mfunc\u001b[0m\u001b[0;34m(\u001b[0m\u001b[0;34m*\u001b[0m\u001b[0margs\u001b[0m\u001b[0;34m,\u001b[0m \u001b[0;34m**\u001b[0m\u001b[0mkwargs\u001b[0m\u001b[0;34m)\u001b[0m\u001b[0;34m\u001b[0m\u001b[0;34m\u001b[0m\u001b[0m\n\u001b[0m\u001b[1;32m    231\u001b[0m             \u001b[0;32mexcept\u001b[0m \u001b[0mBaseException\u001b[0m \u001b[0;32mas\u001b[0m \u001b[0me\u001b[0m\u001b[0;34m:\u001b[0m\u001b[0;34m\u001b[0m\u001b[0;34m\u001b[0m\u001b[0m\n\u001b[1;32m    232\u001b[0m                 \u001b[0mself\u001b[0m\u001b[0;34m.\u001b[0m\u001b[0mevent\u001b[0m\u001b[0;34m(\u001b[0m\u001b[0mSpanDropEvent\u001b[0m\u001b[0;34m(\u001b[0m\u001b[0mspan_id\u001b[0m\u001b[0;34m=\u001b[0m\u001b[0mid_\u001b[0m\u001b[0;34m,\u001b[0m \u001b[0merr_str\u001b[0m\u001b[0;34m=\u001b[0m\u001b[0mstr\u001b[0m\u001b[0;34m(\u001b[0m\u001b[0me\u001b[0m\u001b[0;34m)\u001b[0m\u001b[0;34m)\u001b[0m\u001b[0;34m)\u001b[0m\u001b[0;34m\u001b[0m\u001b[0;34m\u001b[0m\u001b[0m\n",
            "\u001b[0;32m/usr/local/lib/python3.10/dist-packages/llama_index/core/base/base_retriever.py\u001b[0m in \u001b[0;36mretrieve\u001b[0;34m(self, str_or_query_bundle)\u001b[0m\n\u001b[1;32m    241\u001b[0m                 \u001b[0mpayload\u001b[0m\u001b[0;34m=\u001b[0m\u001b[0;34m{\u001b[0m\u001b[0mEventPayload\u001b[0m\u001b[0;34m.\u001b[0m\u001b[0mQUERY_STR\u001b[0m\u001b[0;34m:\u001b[0m \u001b[0mquery_bundle\u001b[0m\u001b[0;34m.\u001b[0m\u001b[0mquery_str\u001b[0m\u001b[0;34m}\u001b[0m\u001b[0;34m,\u001b[0m\u001b[0;34m\u001b[0m\u001b[0;34m\u001b[0m\u001b[0m\n\u001b[1;32m    242\u001b[0m             ) as retrieve_event:\n\u001b[0;32m--> 243\u001b[0;31m                 \u001b[0mnodes\u001b[0m \u001b[0;34m=\u001b[0m \u001b[0mself\u001b[0m\u001b[0;34m.\u001b[0m\u001b[0m_retrieve\u001b[0m\u001b[0;34m(\u001b[0m\u001b[0mquery_bundle\u001b[0m\u001b[0;34m)\u001b[0m\u001b[0;34m\u001b[0m\u001b[0;34m\u001b[0m\u001b[0m\n\u001b[0m\u001b[1;32m    244\u001b[0m                 \u001b[0mnodes\u001b[0m \u001b[0;34m=\u001b[0m \u001b[0mself\u001b[0m\u001b[0;34m.\u001b[0m\u001b[0m_handle_recursive_retrieval\u001b[0m\u001b[0;34m(\u001b[0m\u001b[0mquery_bundle\u001b[0m\u001b[0;34m,\u001b[0m \u001b[0mnodes\u001b[0m\u001b[0;34m)\u001b[0m\u001b[0;34m\u001b[0m\u001b[0;34m\u001b[0m\u001b[0m\n\u001b[1;32m    245\u001b[0m                 retrieve_event.on_end(\n",
            "\u001b[0;32m/usr/local/lib/python3.10/dist-packages/llama_index/core/instrumentation/dispatcher.py\u001b[0m in \u001b[0;36mwrapper\u001b[0;34m(func, instance, args, kwargs)\u001b[0m\n\u001b[1;32m    228\u001b[0m             )\n\u001b[1;32m    229\u001b[0m             \u001b[0;32mtry\u001b[0m\u001b[0;34m:\u001b[0m\u001b[0;34m\u001b[0m\u001b[0;34m\u001b[0m\u001b[0m\n\u001b[0;32m--> 230\u001b[0;31m                 \u001b[0mresult\u001b[0m \u001b[0;34m=\u001b[0m \u001b[0mfunc\u001b[0m\u001b[0;34m(\u001b[0m\u001b[0;34m*\u001b[0m\u001b[0margs\u001b[0m\u001b[0;34m,\u001b[0m \u001b[0;34m**\u001b[0m\u001b[0mkwargs\u001b[0m\u001b[0;34m)\u001b[0m\u001b[0;34m\u001b[0m\u001b[0;34m\u001b[0m\u001b[0m\n\u001b[0m\u001b[1;32m    231\u001b[0m             \u001b[0;32mexcept\u001b[0m \u001b[0mBaseException\u001b[0m \u001b[0;32mas\u001b[0m \u001b[0me\u001b[0m\u001b[0;34m:\u001b[0m\u001b[0;34m\u001b[0m\u001b[0;34m\u001b[0m\u001b[0m\n\u001b[1;32m    232\u001b[0m                 \u001b[0mself\u001b[0m\u001b[0;34m.\u001b[0m\u001b[0mevent\u001b[0m\u001b[0;34m(\u001b[0m\u001b[0mSpanDropEvent\u001b[0m\u001b[0;34m(\u001b[0m\u001b[0mspan_id\u001b[0m\u001b[0;34m=\u001b[0m\u001b[0mid_\u001b[0m\u001b[0;34m,\u001b[0m \u001b[0merr_str\u001b[0m\u001b[0;34m=\u001b[0m\u001b[0mstr\u001b[0m\u001b[0;34m(\u001b[0m\u001b[0me\u001b[0m\u001b[0;34m)\u001b[0m\u001b[0;34m)\u001b[0m\u001b[0;34m)\u001b[0m\u001b[0;34m\u001b[0m\u001b[0;34m\u001b[0m\u001b[0m\n",
            "\u001b[0;32m/usr/local/lib/python3.10/dist-packages/llama_index/core/retrievers/router_retriever.py\u001b[0m in \u001b[0;36m_retrieve\u001b[0;34m(self, query_bundle)\u001b[0m\n\u001b[1;32m    108\u001b[0m                     \u001b[0;32mraise\u001b[0m \u001b[0mValueError\u001b[0m\u001b[0;34m(\u001b[0m\u001b[0;34m\"Failed to select retriever\"\u001b[0m\u001b[0;34m)\u001b[0m \u001b[0;32mfrom\u001b[0m \u001b[0me\u001b[0m\u001b[0;34m\u001b[0m\u001b[0;34m\u001b[0m\u001b[0m\n\u001b[1;32m    109\u001b[0m \u001b[0;34m\u001b[0m\u001b[0m\n\u001b[0;32m--> 110\u001b[0;31m                 \u001b[0mcur_results\u001b[0m \u001b[0;34m=\u001b[0m \u001b[0mselected_retriever\u001b[0m\u001b[0;34m.\u001b[0m\u001b[0mretrieve\u001b[0m\u001b[0;34m(\u001b[0m\u001b[0mquery_bundle\u001b[0m\u001b[0;34m)\u001b[0m\u001b[0;34m\u001b[0m\u001b[0;34m\u001b[0m\u001b[0m\n\u001b[0m\u001b[1;32m    111\u001b[0m                 \u001b[0mretrieved_results\u001b[0m \u001b[0;34m=\u001b[0m \u001b[0;34m{\u001b[0m\u001b[0mn\u001b[0m\u001b[0;34m.\u001b[0m\u001b[0mnode\u001b[0m\u001b[0;34m.\u001b[0m\u001b[0mnode_id\u001b[0m\u001b[0;34m:\u001b[0m \u001b[0mn\u001b[0m \u001b[0;32mfor\u001b[0m \u001b[0mn\u001b[0m \u001b[0;32min\u001b[0m \u001b[0mcur_results\u001b[0m\u001b[0;34m}\u001b[0m\u001b[0;34m\u001b[0m\u001b[0;34m\u001b[0m\u001b[0m\n\u001b[1;32m    112\u001b[0m \u001b[0;34m\u001b[0m\u001b[0m\n",
            "\u001b[0;32m/usr/local/lib/python3.10/dist-packages/llama_index/core/instrumentation/dispatcher.py\u001b[0m in \u001b[0;36mwrapper\u001b[0;34m(func, instance, args, kwargs)\u001b[0m\n\u001b[1;32m    228\u001b[0m             )\n\u001b[1;32m    229\u001b[0m             \u001b[0;32mtry\u001b[0m\u001b[0;34m:\u001b[0m\u001b[0;34m\u001b[0m\u001b[0;34m\u001b[0m\u001b[0m\n\u001b[0;32m--> 230\u001b[0;31m                 \u001b[0mresult\u001b[0m \u001b[0;34m=\u001b[0m \u001b[0mfunc\u001b[0m\u001b[0;34m(\u001b[0m\u001b[0;34m*\u001b[0m\u001b[0margs\u001b[0m\u001b[0;34m,\u001b[0m \u001b[0;34m**\u001b[0m\u001b[0mkwargs\u001b[0m\u001b[0;34m)\u001b[0m\u001b[0;34m\u001b[0m\u001b[0;34m\u001b[0m\u001b[0m\n\u001b[0m\u001b[1;32m    231\u001b[0m             \u001b[0;32mexcept\u001b[0m \u001b[0mBaseException\u001b[0m \u001b[0;32mas\u001b[0m \u001b[0me\u001b[0m\u001b[0;34m:\u001b[0m\u001b[0;34m\u001b[0m\u001b[0;34m\u001b[0m\u001b[0m\n\u001b[1;32m    232\u001b[0m                 \u001b[0mself\u001b[0m\u001b[0;34m.\u001b[0m\u001b[0mevent\u001b[0m\u001b[0;34m(\u001b[0m\u001b[0mSpanDropEvent\u001b[0m\u001b[0;34m(\u001b[0m\u001b[0mspan_id\u001b[0m\u001b[0;34m=\u001b[0m\u001b[0mid_\u001b[0m\u001b[0;34m,\u001b[0m \u001b[0merr_str\u001b[0m\u001b[0;34m=\u001b[0m\u001b[0mstr\u001b[0m\u001b[0;34m(\u001b[0m\u001b[0me\u001b[0m\u001b[0;34m)\u001b[0m\u001b[0;34m)\u001b[0m\u001b[0;34m)\u001b[0m\u001b[0;34m\u001b[0m\u001b[0;34m\u001b[0m\u001b[0m\n",
            "\u001b[0;32m/usr/local/lib/python3.10/dist-packages/llama_index/core/base/base_retriever.py\u001b[0m in \u001b[0;36mretrieve\u001b[0;34m(self, str_or_query_bundle)\u001b[0m\n\u001b[1;32m    241\u001b[0m                 \u001b[0mpayload\u001b[0m\u001b[0;34m=\u001b[0m\u001b[0;34m{\u001b[0m\u001b[0mEventPayload\u001b[0m\u001b[0;34m.\u001b[0m\u001b[0mQUERY_STR\u001b[0m\u001b[0;34m:\u001b[0m \u001b[0mquery_bundle\u001b[0m\u001b[0;34m.\u001b[0m\u001b[0mquery_str\u001b[0m\u001b[0;34m}\u001b[0m\u001b[0;34m,\u001b[0m\u001b[0;34m\u001b[0m\u001b[0;34m\u001b[0m\u001b[0m\n\u001b[1;32m    242\u001b[0m             ) as retrieve_event:\n\u001b[0;32m--> 243\u001b[0;31m                 \u001b[0mnodes\u001b[0m \u001b[0;34m=\u001b[0m \u001b[0mself\u001b[0m\u001b[0;34m.\u001b[0m\u001b[0m_retrieve\u001b[0m\u001b[0;34m(\u001b[0m\u001b[0mquery_bundle\u001b[0m\u001b[0;34m)\u001b[0m\u001b[0;34m\u001b[0m\u001b[0;34m\u001b[0m\u001b[0m\n\u001b[0m\u001b[1;32m    244\u001b[0m                 \u001b[0mnodes\u001b[0m \u001b[0;34m=\u001b[0m \u001b[0mself\u001b[0m\u001b[0;34m.\u001b[0m\u001b[0m_handle_recursive_retrieval\u001b[0m\u001b[0;34m(\u001b[0m\u001b[0mquery_bundle\u001b[0m\u001b[0;34m,\u001b[0m \u001b[0mnodes\u001b[0m\u001b[0;34m)\u001b[0m\u001b[0;34m\u001b[0m\u001b[0;34m\u001b[0m\u001b[0m\n\u001b[1;32m    245\u001b[0m                 retrieve_event.on_end(\n",
            "\u001b[0;32m/usr/local/lib/python3.10/dist-packages/llama_index/core/instrumentation/dispatcher.py\u001b[0m in \u001b[0;36mwrapper\u001b[0;34m(func, instance, args, kwargs)\u001b[0m\n\u001b[1;32m    228\u001b[0m             )\n\u001b[1;32m    229\u001b[0m             \u001b[0;32mtry\u001b[0m\u001b[0;34m:\u001b[0m\u001b[0;34m\u001b[0m\u001b[0;34m\u001b[0m\u001b[0m\n\u001b[0;32m--> 230\u001b[0;31m                 \u001b[0mresult\u001b[0m \u001b[0;34m=\u001b[0m \u001b[0mfunc\u001b[0m\u001b[0;34m(\u001b[0m\u001b[0;34m*\u001b[0m\u001b[0margs\u001b[0m\u001b[0;34m,\u001b[0m \u001b[0;34m**\u001b[0m\u001b[0mkwargs\u001b[0m\u001b[0;34m)\u001b[0m\u001b[0;34m\u001b[0m\u001b[0;34m\u001b[0m\u001b[0m\n\u001b[0m\u001b[1;32m    231\u001b[0m             \u001b[0;32mexcept\u001b[0m \u001b[0mBaseException\u001b[0m \u001b[0;32mas\u001b[0m \u001b[0me\u001b[0m\u001b[0;34m:\u001b[0m\u001b[0;34m\u001b[0m\u001b[0;34m\u001b[0m\u001b[0m\n\u001b[1;32m    232\u001b[0m                 \u001b[0mself\u001b[0m\u001b[0;34m.\u001b[0m\u001b[0mevent\u001b[0m\u001b[0;34m(\u001b[0m\u001b[0mSpanDropEvent\u001b[0m\u001b[0;34m(\u001b[0m\u001b[0mspan_id\u001b[0m\u001b[0;34m=\u001b[0m\u001b[0mid_\u001b[0m\u001b[0;34m,\u001b[0m \u001b[0merr_str\u001b[0m\u001b[0;34m=\u001b[0m\u001b[0mstr\u001b[0m\u001b[0;34m(\u001b[0m\u001b[0me\u001b[0m\u001b[0;34m)\u001b[0m\u001b[0;34m)\u001b[0m\u001b[0;34m)\u001b[0m\u001b[0;34m\u001b[0m\u001b[0;34m\u001b[0m\u001b[0m\n",
            "\u001b[0;32m/usr/local/lib/python3.10/dist-packages/llama_index/retrievers/bm25/base.py\u001b[0m in \u001b[0;36m_retrieve\u001b[0;34m(self, query_bundle)\u001b[0m\n\u001b[1;32m     90\u001b[0m         \u001b[0mnodes\u001b[0m\u001b[0;34m:\u001b[0m \u001b[0mList\u001b[0m\u001b[0;34m[\u001b[0m\u001b[0mNodeWithScore\u001b[0m\u001b[0;34m]\u001b[0m \u001b[0;34m=\u001b[0m \u001b[0;34m[\u001b[0m\u001b[0;34m]\u001b[0m\u001b[0;34m\u001b[0m\u001b[0;34m\u001b[0m\u001b[0m\n\u001b[1;32m     91\u001b[0m         \u001b[0;32mfor\u001b[0m \u001b[0mix\u001b[0m\u001b[0;34m,\u001b[0m \u001b[0mscore\u001b[0m \u001b[0;32min\u001b[0m \u001b[0mzip\u001b[0m\u001b[0;34m(\u001b[0m\u001b[0mtop_n\u001b[0m\u001b[0;34m,\u001b[0m \u001b[0mscores\u001b[0m\u001b[0;34m)\u001b[0m\u001b[0;34m:\u001b[0m\u001b[0;34m\u001b[0m\u001b[0;34m\u001b[0m\u001b[0m\n\u001b[0;32m---> 92\u001b[0;31m             \u001b[0mnodes\u001b[0m\u001b[0;34m.\u001b[0m\u001b[0mappend\u001b[0m\u001b[0;34m(\u001b[0m\u001b[0mNodeWithScore\u001b[0m\u001b[0;34m(\u001b[0m\u001b[0mnode\u001b[0m\u001b[0;34m=\u001b[0m\u001b[0mself\u001b[0m\u001b[0;34m.\u001b[0m\u001b[0m_nodes\u001b[0m\u001b[0;34m[\u001b[0m\u001b[0mix\u001b[0m\u001b[0;34m]\u001b[0m\u001b[0;34m,\u001b[0m \u001b[0mscore\u001b[0m\u001b[0;34m=\u001b[0m\u001b[0mfloat\u001b[0m\u001b[0;34m(\u001b[0m\u001b[0mscore\u001b[0m\u001b[0;34m)\u001b[0m\u001b[0;34m)\u001b[0m\u001b[0;34m)\u001b[0m\u001b[0;34m\u001b[0m\u001b[0;34m\u001b[0m\u001b[0m\n\u001b[0m\u001b[1;32m     93\u001b[0m \u001b[0;34m\u001b[0m\u001b[0m\n\u001b[1;32m     94\u001b[0m         \u001b[0;32mreturn\u001b[0m \u001b[0mnodes\u001b[0m\u001b[0;34m\u001b[0m\u001b[0;34m\u001b[0m\u001b[0m\n",
            "\u001b[0;32m/usr/local/lib/python3.10/dist-packages/pydantic/v1/main.py\u001b[0m in \u001b[0;36m__init__\u001b[0;34m(__pydantic_self__, **data)\u001b[0m\n\u001b[1;32m    339\u001b[0m         \u001b[0mvalues\u001b[0m\u001b[0;34m,\u001b[0m \u001b[0mfields_set\u001b[0m\u001b[0;34m,\u001b[0m \u001b[0mvalidation_error\u001b[0m \u001b[0;34m=\u001b[0m \u001b[0mvalidate_model\u001b[0m\u001b[0;34m(\u001b[0m\u001b[0m__pydantic_self__\u001b[0m\u001b[0;34m.\u001b[0m\u001b[0m__class__\u001b[0m\u001b[0;34m,\u001b[0m \u001b[0mdata\u001b[0m\u001b[0;34m)\u001b[0m\u001b[0;34m\u001b[0m\u001b[0;34m\u001b[0m\u001b[0m\n\u001b[1;32m    340\u001b[0m         \u001b[0;32mif\u001b[0m \u001b[0mvalidation_error\u001b[0m\u001b[0;34m:\u001b[0m\u001b[0;34m\u001b[0m\u001b[0;34m\u001b[0m\u001b[0m\n\u001b[0;32m--> 341\u001b[0;31m             \u001b[0;32mraise\u001b[0m \u001b[0mvalidation_error\u001b[0m\u001b[0;34m\u001b[0m\u001b[0;34m\u001b[0m\u001b[0m\n\u001b[0m\u001b[1;32m    342\u001b[0m         \u001b[0;32mtry\u001b[0m\u001b[0;34m:\u001b[0m\u001b[0;34m\u001b[0m\u001b[0;34m\u001b[0m\u001b[0m\n\u001b[1;32m    343\u001b[0m             \u001b[0mobject_setattr\u001b[0m\u001b[0;34m(\u001b[0m\u001b[0m__pydantic_self__\u001b[0m\u001b[0;34m,\u001b[0m \u001b[0;34m'__dict__'\u001b[0m\u001b[0;34m,\u001b[0m \u001b[0mvalues\u001b[0m\u001b[0;34m)\u001b[0m\u001b[0;34m\u001b[0m\u001b[0;34m\u001b[0m\u001b[0m\n",
            "\u001b[0;31mValidationError\u001b[0m: 1 validation error for NodeWithScore\nnode\n  Can't instantiate abstract class BaseNode with abstract methods get_content, get_metadata_str, get_type, hash, set_content (type=type_error)"
          ]
        }
      ],
      "source": [
        "# will retrieve all context from the author's life\n",
        "a = retriever.retrieve(\n",
        "    \"Can you give me all the context regarding the author's life?\"\n",
        ")\n",
        "for b in a:\n",
        "    display_source_node(b)"
      ]
    },
    {
      "cell_type": "markdown",
      "id": "b1b4b717",
      "metadata": {
        "id": "b1b4b717"
      },
      "source": [
        "## Advanced - Hybrid Retriever + Re-Ranking\n",
        "\n",
        "Here we extend the base retriever class and create a custom retriever that always uses the vector retriever and BM25 retreiver.\n",
        "\n",
        "Then, nodes can be re-ranked and filtered. This lets us keep intermediate top-k values large and letting the re-ranking filter out un-needed nodes.\n",
        "\n",
        "To best demonstrate this, we will use a larger set of source documents -- Chapter 3 from the 2022 IPCC Climate Report."
      ]
    },
    {
      "cell_type": "markdown",
      "id": "a4be4ec7",
      "metadata": {
        "id": "a4be4ec7"
      },
      "source": [
        "### Setup data"
      ]
    },
    {
      "cell_type": "code",
      "execution_count": 19,
      "id": "5ebd3ddf",
      "metadata": {
        "colab": {
          "base_uri": "https://localhost:8080/"
        },
        "id": "5ebd3ddf",
        "outputId": "1c98bebd-4074-4ae4-a977-fdb01aad3313"
      },
      "outputs": [
        {
          "name": "stdout",
          "output_type": "stream",
          "text": [
            "  % Total    % Received % Xferd  Average Speed   Time    Time     Time  Current\n",
            "                                 Dload  Upload   Total   Spent    Left  Speed\n",
            "100 20.7M  100 20.7M    0     0  16.7M      0  0:00:01  0:00:01 --:--:-- 16.7M\n"
          ]
        }
      ],
      "source": [
        "!curl https://www.ipcc.ch/report/ar6/wg2/downloads/report/IPCC_AR6_WGII_Chapter03.pdf --output IPCC_AR6_WGII_Chapter03.pdf"
      ]
    },
    {
      "cell_type": "code",
      "execution_count": 21,
      "id": "48bd32ac-6d99-4bb5-8559-45b61d528525",
      "metadata": {
        "id": "48bd32ac-6d99-4bb5-8559-45b61d528525"
      },
      "outputs": [],
      "source": [
        "# load documents\n",
        "documents = SimpleDirectoryReader(\n",
        "    input_files=[\"IPCC_AR6_WGII_Chapter03.pdf\"]\n",
        ").load_data()"
      ]
    },
    {
      "cell_type": "code",
      "execution_count": 22,
      "id": "7c771a80-92e3-4178-b4a3-1f03c489b1a2",
      "metadata": {
        "id": "7c771a80-92e3-4178-b4a3-1f03c489b1a2"
      },
      "outputs": [],
      "source": [
        "# initialize llm + node parser\n",
        "# -- here, we set a smaller chunk size, to allow for more effective re-ranking\n",
        "llm = Groq(model=\"llama3-70b-8192\", api_key=os.environ[\"GROQ_API_KEY\"])\n",
        "splitter = SentenceSplitter(chunk_size=256)\n",
        "# limit to a smaller section\n",
        "nodes = splitter.get_nodes_from_documents(\n",
        "    [Document(text=documents[0].get_content()[:1000000])]\n",
        ")"
      ]
    },
    {
      "cell_type": "code",
      "execution_count": 23,
      "id": "52f4243d-fd8f-4193-bf6a-73c07d661bcd",
      "metadata": {
        "id": "52f4243d-fd8f-4193-bf6a-73c07d661bcd"
      },
      "outputs": [],
      "source": [
        "# initialize storage context (by default it's in-memory)\n",
        "storage_context = StorageContext.from_defaults()\n",
        "storage_context.docstore.add_documents(nodes)"
      ]
    },
    {
      "cell_type": "code",
      "execution_count": 24,
      "id": "ccfc9879",
      "metadata": {
        "id": "ccfc9879"
      },
      "outputs": [],
      "source": [
        "index = VectorStoreIndex(nodes, storage_context=storage_context)"
      ]
    },
    {
      "cell_type": "code",
      "execution_count": 25,
      "id": "0474be06",
      "metadata": {
        "id": "0474be06"
      },
      "outputs": [],
      "source": [
        "# retireve the top 10 most similar nodes using embeddings\n",
        "vector_retriever = index.as_retriever(similarity_top_k=10)\n",
        "\n",
        "# retireve the top 10 most similar nodes using bm25\n",
        "bm25_retriever = BM25Retriever.from_defaults(nodes=nodes, similarity_top_k=10)"
      ]
    },
    {
      "cell_type": "markdown",
      "id": "99e603a1",
      "metadata": {
        "id": "99e603a1"
      },
      "source": [
        "### Custom Retriever Implementation"
      ]
    },
    {
      "cell_type": "code",
      "execution_count": 26,
      "id": "917a3d85",
      "metadata": {
        "id": "917a3d85"
      },
      "outputs": [],
      "source": [
        "class HybridRetriever(BaseRetriever):\n",
        "    def __init__(self, vector_retriever, bm25_retriever):\n",
        "        self.vector_retriever = vector_retriever\n",
        "        self.bm25_retriever = bm25_retriever\n",
        "        super().__init__()\n",
        "\n",
        "    def _retrieve(self, query, **kwargs):\n",
        "        bm25_nodes = self.bm25_retriever.retrieve(query, **kwargs)\n",
        "        vector_nodes = self.vector_retriever.retrieve(query, **kwargs)\n",
        "\n",
        "        # combine the two lists of nodes\n",
        "        all_nodes = []\n",
        "        node_ids = set()\n",
        "        for n in bm25_nodes + vector_nodes:\n",
        "            if n.node.node_id not in node_ids:\n",
        "                all_nodes.append(n)\n",
        "                node_ids.add(n.node.node_id)\n",
        "        return all_nodes"
      ]
    },
    {
      "cell_type": "code",
      "execution_count": 27,
      "id": "9495e47c-2008-41ac-87e8-582d6d798190",
      "metadata": {
        "id": "9495e47c-2008-41ac-87e8-582d6d798190"
      },
      "outputs": [],
      "source": [
        "index.as_retriever(similarity_top_k=5)\n",
        "\n",
        "hybrid_retriever = HybridRetriever(vector_retriever, bm25_retriever)"
      ]
    },
    {
      "cell_type": "markdown",
      "id": "bfd3b287",
      "metadata": {
        "id": "bfd3b287"
      },
      "source": [
        "### Re-Ranker Setup"
      ]
    },
    {
      "cell_type": "code",
      "execution_count": 29,
      "id": "638e7786",
      "metadata": {
        "colab": {
          "base_uri": "https://localhost:8080/"
        },
        "id": "638e7786",
        "outputId": "bd9afafc-6730-4891-b0de-cf50e4b2bc4c"
      },
      "outputs": [
        {
          "name": "stderr",
          "output_type": "stream",
          "text": [
            "/usr/local/lib/python3.10/dist-packages/huggingface_hub/file_download.py:1132: FutureWarning: `resume_download` is deprecated and will be removed in version 1.0.0. Downloads always resume when possible. If you want to force a new download, use `force_download=True`.\n",
            "  warnings.warn(\n",
            "Some weights of T5ForSequenceClassification were not initialized from the model checkpoint at unicamp-dl/monoptt5-base and are newly initialized: ['classification_head.dense.bias', 'classification_head.dense.weight', 'classification_head.out_proj.bias', 'classification_head.out_proj.weight']\n",
            "You should probably TRAIN this model on a down-stream task to be able to use it for predictions and inference.\n",
            "You are using the default legacy behaviour of the <class 'transformers.models.t5.tokenization_t5.T5Tokenizer'>. This is expected, and simply means that the `legacy` (previous) behavior will be used so nothing changes for you. If you want to use the new behaviour, set `legacy=False`. This should only be set if you understand what it means, and thoroughly read the reason why this was added as explained in https://github.com/huggingface/transformers/pull/24565\n"
          ]
        }
      ],
      "source": [
        "reranker = SentenceTransformerRerank(top_n=4, model=\"unicamp-dl/monoptt5-base\")"
      ]
    },
    {
      "cell_type": "markdown",
      "id": "58a78eec",
      "metadata": {
        "id": "58a78eec"
      },
      "source": [
        "### Retrieve"
      ]
    },
    {
      "cell_type": "code",
      "execution_count": 30,
      "id": "9235f79d",
      "metadata": {
        "colab": {
          "base_uri": "https://localhost:8080/"
        },
        "id": "9235f79d",
        "outputId": "3c341e05-9a2b-47c8-df82-313ef51dc7b4"
      },
      "outputs": [
        {
          "name": "stdout",
          "output_type": "stream",
          "text": [
            "Initial retrieval:  13  nodes\n",
            "Re-ranked retrieval:  4  nodes\n"
          ]
        }
      ],
      "source": [
        "retrieved_nodes = hybrid_retriever.retrieve(\n",
        "    \"What is the impact of climate change on the ocean?\"\n",
        ")\n",
        "reranked_nodes = reranker.postprocess_nodes(\n",
        "    retrieved_nodes,\n",
        "    query_bundle=QueryBundle(\n",
        "        \"What is the impact of climate change on the ocean?\"\n",
        "    ),\n",
        ")\n",
        "\n",
        "print(\"Initial retrieval: \", len(retrieved_nodes), \" nodes\")\n",
        "print(\"Re-ranked retrieval: \", len(reranked_nodes), \" nodes\")"
      ]
    },
    {
      "cell_type": "code",
      "execution_count": 31,
      "id": "5674f1d6",
      "metadata": {
        "colab": {
          "base_uri": "https://localhost:8080/",
          "height": 255
        },
        "id": "5674f1d6",
        "outputId": "3b8ede64-974a-424d-fe63-3f23417d9d2c"
      },
      "outputs": [
        {
          "data": {
            "text/markdown": [
              "**Node ID:** 50cf7b5d-6994-41a0-9bb3-eb2cebc3dc2b<br>**Similarity:** 0.580895721912384<br>**Text:** Stephanie Dutkiewicz (USA), Thomas Frölicher \n",
              "(Switzerland), Juan Diego Gaitán-Espitia (Hong Kong...<br>"
            ],
            "text/plain": [
              "<IPython.core.display.Markdown object>"
            ]
          },
          "metadata": {},
          "output_type": "display_data"
        },
        {
          "data": {
            "text/markdown": [
              "**Node ID:** 03ddd1cb-1a3d-41d2-ad7d-5894910c7e89<br>**Similarity:** 0.5701732635498047<br>**Text:** Ghebrehiwet, S.-I.  Ito, W.  Kiessling, P .  Martinetto, E.  Ojea, \n",
              "M.-F . Racault, B.  Rost, and...<br>"
            ],
            "text/plain": [
              "<IPython.core.display.Markdown object>"
            ]
          },
          "metadata": {},
          "output_type": "display_data"
        },
        {
          "data": {
            "text/markdown": [
              "**Node ID:** 1dcb88f6-6d4c-40ff-bf4d-45a37d4985a7<br>**Similarity:** 0.568600594997406<br>**Text:** Pörtner, D.C.  Roberts, M.  Tignor, E.S.  Poloczanska, K.  Mintenbeck, \n",
              "A. Alegría, M.  Craig, S....<br>"
            ],
            "text/plain": [
              "<IPython.core.display.Markdown object>"
            ]
          },
          "metadata": {},
          "output_type": "display_data"
        },
        {
          "data": {
            "text/markdown": [
              "**Node ID:** 067f6634-43c2-46d6-a732-d558557fda84<br>**Similarity:** 0.566605806350708<br>**Text:** In: Climate \n",
              "Change 2022: Impacts, Adaptation and Vulnerability. Contribution of Working Group II...<br>"
            ],
            "text/plain": [
              "<IPython.core.display.Markdown object>"
            ]
          },
          "metadata": {},
          "output_type": "display_data"
        }
      ],
      "source": [
        "for node in reranked_nodes:\n",
        "    display_source_node(node)"
      ]
    },
    {
      "cell_type": "markdown",
      "id": "c24caa0d",
      "metadata": {
        "id": "c24caa0d"
      },
      "source": [
        "### Full Query Engine"
      ]
    },
    {
      "cell_type": "code",
      "execution_count": 32,
      "id": "549b9a96",
      "metadata": {
        "id": "549b9a96"
      },
      "outputs": [],
      "source": [
        "query_engine = RetrieverQueryEngine.from_args(\n",
        "    retriever=hybrid_retriever,\n",
        "    node_postprocessors=[reranker],\n",
        "    llm=llm,\n",
        ")\n",
        "\n",
        "response = query_engine.query(\n",
        "    \"What is the impact of climate change on the ocean?\"\n",
        ")"
      ]
    },
    {
      "cell_type": "code",
      "execution_count": 33,
      "id": "171668b7",
      "metadata": {
        "colab": {
          "base_uri": "https://localhost:8080/",
          "height": 64
        },
        "id": "171668b7",
        "outputId": "b23df632-b612-45b8-aa1e-01493096521d"
      },
      "outputs": [
        {
          "data": {
            "text/markdown": [
              "**`Final Response:`** The impact of climate change on the ocean is addressed in the chapter \"Oceans and Coastal Ecosystems and Their Services\" in the report \"Climate Change 2022: Impacts, Adaptation and Vulnerability\"."
            ],
            "text/plain": [
              "<IPython.core.display.Markdown object>"
            ]
          },
          "metadata": {},
          "output_type": "display_data"
        }
      ],
      "source": [
        "display_response(response)"
      ]
    }
  ],
  "metadata": {
    "colab": {
      "collapsed_sections": [
        "73460e63-3c7a-49f4-80d2-ea9f4033848e"
      ],
      "provenance": []
    },
    "kernelspec": {
      "display_name": "llama_index_v3",
      "language": "python",
      "name": "llama_index_v3"
    },
    "language_info": {
      "codemirror_mode": {
        "name": "ipython",
        "version": 3
      },
      "file_extension": ".py",
      "mimetype": "text/x-python",
      "name": "python",
      "nbconvert_exporter": "python",
      "pygments_lexer": "ipython3"
    }
  },
  "nbformat": 4,
  "nbformat_minor": 5
}
