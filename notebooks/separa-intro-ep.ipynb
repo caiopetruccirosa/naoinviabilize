{
 "cells": [
  {
   "cell_type": "code",
   "execution_count": 28,
   "id": "96ec1fc7-ee32-4940-b46c-350e21af373e",
   "metadata": {},
   "outputs": [],
   "source": [
    "import json\n",
    "from glob import glob\n",
    "import numpy as np"
   ]
  },
  {
   "cell_type": "code",
   "execution_count": 116,
   "id": "5e092188-1fae-4aa6-8ef0-ce3658506886",
   "metadata": {},
   "outputs": [],
   "source": [
    "for json_path in glob(\"transcriptions/*json\"):\n",
    "    with open(json_path, \"r\") as jsonFile:\n",
    "        eps = json.load(jsonFile)\n",
    "    lens = []\n",
    "    sensitive = []\n",
    "    new_eps = []\n",
    "    for i, ep in enumerate(eps):\n",
    "        lens.append(len(ep[\"transcription\"].lower().split(\"vamos de história\")))\n",
    "        if len(ep[\"transcription\"].lower().split(\"vamos de história\")) == 2:\n",
    "            ep[\"transcription-headless\"] = ep[\"transcription\"].lower().split(\"vamos de história\")[1]\n",
    "            if \"de fone\" in ep[\"transcription\"].lower().split(\"vamos de história\")[0]:\n",
    "                ep[\"de-fone\"] = True\n",
    "            else:\n",
    "                ep[\"de-fone\"] = False\n",
    "        if \"conteúdo sensível\" in ep[\"transcription\"].lower():\n",
    "            sensitive.append(i)\n",
    "            ep[\"sensitive-content\"] = True\n",
    "        else:\n",
    "            ep[\"sensitive-content\"] = False\n",
    "        new_eps.append(ep)\n",
    "    new_file_path = json_path.split(\".json\")[0] + \"-headless.json\"\n",
    "    with open(new_file_path, \"w\", encoding='utf-8') as newJsonFile:\n",
    "        json.dump(new_eps, newJsonFile, indent=4, ensure_ascii=False)"
   ]
  }
 ],
 "metadata": {
  "kernelspec": {
   "display_name": "Python 3 (ipykernel)",
   "language": "python",
   "name": "python3"
  },
  "language_info": {
   "codemirror_mode": {
    "name": "ipython",
    "version": 3
   },
   "file_extension": ".py",
   "mimetype": "text/x-python",
   "name": "python",
   "nbconvert_exporter": "python",
   "pygments_lexer": "ipython3",
   "version": "3.12.3"
  }
 },
 "nbformat": 4,
 "nbformat_minor": 5
}
