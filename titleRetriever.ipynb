{
 "cells": [
  {
   "cell_type": "code",
   "execution_count": 17,
   "id": "07179391-0270-4f92-94c2-4c3a44e4ede5",
   "metadata": {},
   "outputs": [],
   "source": [
    "import json\n",
    "from groq import Groq\n",
    "from glob import glob\n",
    "from tqdm.notebook import tqdm"
   ]
  },
  {
   "cell_type": "code",
   "execution_count": 3,
   "id": "48a02eef-769d-4f5f-b892-6191fec05586",
   "metadata": {},
   "outputs": [
    {
     "name": "stdin",
     "output_type": "stream",
     "text": [
      " ········\n"
     ]
    }
   ],
   "source": [
    "from getpass import getpass\n",
    "API_KEY = getpass()"
   ]
  },
  {
   "cell_type": "code",
   "execution_count": 29,
   "id": "4c5bda6b-899b-4ccd-af6c-72ba565a3f17",
   "metadata": {},
   "outputs": [],
   "source": [
    "class titleRecover():\n",
    "    def __init__(self, API_KEY, llm_model=\"llama3-70b-8192\"):\n",
    "        self.llm_api = Groq(\n",
    "                            api_key=API_KEY,\n",
    "                        )\n",
    "        self.llm_model = llm_model\n",
    "    def recover_title(self, content):\n",
    "        chat_completion = self.llm_api.chat.completions.create(\n",
    "                                                            messages=[\n",
    "                                                                {\n",
    "                                                                    \"role\": \"user\",\n",
    "                                                                    \"content\": content,\n",
    "                                                                }\n",
    "                                                            ],\n",
    "                                                            model=self.llm_model,\n",
    "                                                        )\n",
    "        \n",
    "        return chat_completion.choices[0].message.content"
   ]
  },
  {
   "cell_type": "code",
   "execution_count": 30,
   "id": "0e90220b-2c78-432f-ade2-1d2a88e74a69",
   "metadata": {},
   "outputs": [],
   "source": [
    "title_recover = titleRecover(API_KEY)"
   ]
  },
  {
   "cell_type": "code",
   "execution_count": 31,
   "id": "ddf5fae0-da45-49a1-ab90-8875a09e22eb",
   "metadata": {},
   "outputs": [
    {
     "data": {
      "application/vnd.jupyter.widget-view+json": {
       "model_id": "228c082341374752b9a35dbf01c76276",
       "version_major": 2,
       "version_minor": 0
      },
      "text/plain": [
       "  0%|          | 0/12 [00:00<?, ?it/s]"
      ]
     },
     "metadata": {},
     "output_type": "display_data"
    }
   ],
   "source": [
    "for quadro in glob(\"transcriptions/*perguntas.json\"):\n",
    "    with open(quadro, \"r\") as jsonFile:\n",
    "        eps = json.load(jsonFile)\n",
    "    for ep in tqdm(eps):\n",
    "        for pergunta in ep[\"Perguntas\"]:\n",
    "            content = \"Given the following Portuguese query, regarding an episode of a podcast, please tell me the title of the episode. \" \\\n",
    "                        f\"The query starts now: '{pergunta}'.\" \\\n",
    "                        \"You MUST answer with only the title of the episode.\"\n",
    "            title = title_recover.recover_title(content)\n",
    "        break\n",
    "    break"
   ]
  },
  {
   "cell_type": "code",
   "execution_count": 33,
   "id": "5c89fde6-e91d-4fb1-a21b-e36c7b96134c",
   "metadata": {},
   "outputs": [
    {
     "data": {
      "text/plain": [
       "'Mário'"
      ]
     },
     "execution_count": 33,
     "metadata": {},
     "output_type": "execute_result"
    }
   ],
   "source": [
    "title"
   ]
  }
 ],
 "metadata": {
  "kernelspec": {
   "display_name": "Python 3 (ipykernel)",
   "language": "python",
   "name": "python3"
  },
  "language_info": {
   "codemirror_mode": {
    "name": "ipython",
    "version": 3
   },
   "file_extension": ".py",
   "mimetype": "text/x-python",
   "name": "python",
   "nbconvert_exporter": "python",
   "pygments_lexer": "ipython3",
   "version": "3.12.3"
  }
 },
 "nbformat": 4,
 "nbformat_minor": 5
}
